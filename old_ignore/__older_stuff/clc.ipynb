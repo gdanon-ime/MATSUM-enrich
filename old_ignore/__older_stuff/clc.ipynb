{
 "cells": [
  {
   "cell_type": "code",
   "execution_count": 2,
   "metadata": {},
   "outputs": [],
   "source": [
    "import ee\n",
    "import geemap\n",
    "import geopandas as gpd\n",
    "import json\n",
    "\n",
    "service_account = 'ee-account@airy-galaxy-398310.iam.gserviceaccount.com'\n",
    "credentials = ee.ServiceAccountCredentials(service_account, '.private-key.json')\n",
    "ee.Initialize(credentials)"
   ]
  },
  {
   "cell_type": "code",
   "execution_count": 3,
   "metadata": {},
   "outputs": [
    {
     "name": "stdout",
     "output_type": "stream",
     "text": [
      "Products: ['1990', '2000', '2006', '2012', '2018']\n"
     ]
    }
   ],
   "source": [
    "# Define Italy\n",
    "countries = ee.FeatureCollection(\"USDOS/LSIB_SIMPLE/2017\")\n",
    "Italy = countries.filter(ee.Filter.eq('country_na', 'Italy'))\n",
    "\n",
    "# Get Corine data\n",
    "dataset = ee.ImageCollection(\"COPERNICUS/CORINE/V20/100m\")\n",
    "\n",
    "print('Products:', dataset.aggregate_array('system:index').getInfo())\n",
    "\n",
    "# print('Bands:', corine2012.bandNames())\n",
    "image = dataset.filter(ee.Filter.eq('system:index', '2018'))\\\n",
    "    .first()\\\n",
    "    .select('landcover')\n"
   ]
  },
  {
   "cell_type": "code",
   "execution_count": 4,
   "metadata": {},
   "outputs": [
    {
     "data": {
      "application/vnd.jupyter.widget-view+json": {
       "model_id": "f2368864dc494174a53871a47d5b550b",
       "version_major": 2,
       "version_minor": 0
      },
      "text/plain": [
       "Map(center=[43.7196, 10.425], controls=(WidgetControl(options=['position', 'transparent_bg'], widget=HBox(chil…"
      ]
     },
     "execution_count": 4,
     "metadata": {},
     "output_type": "execute_result"
    }
   ],
   "source": [
    "Map = geemap.Map(center=[43.7196, 10.4250], zoom=5)\n",
    "\n",
    "Map.addLayer(image.clip(Italy), None, 'Landsat Random Clusters')\n",
    "\n",
    "Map"
   ]
  },
  {
   "cell_type": "code",
   "execution_count": 5,
   "metadata": {},
   "outputs": [
    {
     "name": "stdout",
     "output_type": "stream",
     "text": [
      "{'type': 'Image', 'bands': [{'id': 'landcover', 'data_type': {'type': 'PixelType', 'precision': 'int', 'min': -32768, 'max': 32767}, 'dimensions': [65000, 46000], 'crs': 'EPSG:3035', 'crs_transform': [100, 0, 900000, 0, -100, 5500000]}], 'version': 1578598451411424, 'id': 'COPERNICUS/CORINE/V20/100m/2018', 'properties': {'system:time_start': 1483228800000, 'landcover_class_names': ['Artificial surfaces; urban fabric; continuous urban fabric', 'Artificial surfaces; urban fabric; discontinuous urban fabric', 'Artificial surfaces; industrial, commercial, and transport units; industrial or commercial units', 'Artificial surfaces; industrial, commercial, and transport units; road and rail networks and associated land', 'Artificial surfaces; industrial, commercial, and transport units; port areas', 'Artificial surfaces; industrial, commercial, and transport units; airports', 'Artificial surfaces; mine, dump, and construction sites; mineral extraction sites', 'Artificial surfaces; mine, dump, and construction sites; dump sites', 'Artificial surfaces; mine, dump, and construction sites; construction sites', 'Artificial surfaces; artificial, non-agricultural vegetated areas; green urban areas', 'Artificial surfaces; artificial, non-agricultural vegetated areas; sport and leisure facilities', 'Agricultural areas; arable land; non-irrigated arable land', 'Agricultural areas; arable land; permanently irrigated land', 'Agricultural areas; arable land; rice fields', 'Agricultural areas; permanent crops; vineyards', 'Agricultural areas; permanent crops; fruit trees and berry plantations', 'Agricultural areas; permanent crops; olive groves', 'Agricultural areas; pastures; pastures', 'Agricultural areas; heterogeneous agricultural areas; annual crops associated with permanent crops', 'Agricultural areas; heterogeneous agricultural areas; complex cultivation patterns', 'Agricultural areas; heterogeneous agricultural areas; land principally occupied by agriculture, with significant areas of natural vegetation', 'Agricultural areas; heterogeneous agricultural areas; agro-forestry areas', 'Forest and semi natural areas; forests; broad-leaved forest', 'Forest and semi natural areas; forests; coniferous forest', 'Forest and semi natural areas; forests; mixed forest', 'Forest and semi natural areas; scrub and/or herbaceous vegetation associations; natural grasslands', 'Forest and semi natural areas; scrub and/or herbaceous vegetation associations; moors and heathland', 'Forest and semi natural areas; scrub and/or herbaceous vegetation associations; sclerophyllous vegetation', 'Forest and semi natural areas; scrub and/or herbaceous vegetation associations; transitional woodland-shrub', 'Forest and semi natural areas; open spaces with little or no vegetation; beaches, dunes, sands', 'Forest and semi natural areas; open spaces with little or no vegetation; bare rocks', 'Forest and semi natural areas; open spaces with little or no vegetation; sparsely vegetated areas', 'Forest and semi natural areas; open spaces with little or no vegetation; burnt areas', 'Forest and semi natural areas; open spaces with little or no vegetation; glaciers and perpetual snow', 'Wetlands; inland wetlands; inland marshes', 'Wetlands; inland wetlands; peat bogs', 'Wetlands; maritime wetlands; salt marshes', 'Wetlands; maritime wetlands; salines', 'Wetlands; maritime wetlands; intertidal flats', 'Water bodies; inland waters; water courses', 'Water bodies; inland waters; water bodies', 'Water bodies; marine waters; coastal lagoons', 'Water bodies; marine waters; estuaries', 'Water bodies; marine waters; sea and ocean'], 'system:footprint': {'type': 'LinearRing', 'coordinates': [[-9.291577489959689, 28.948048779529504], [-1.1348922141878568, 30.384108013567815], [15.560478296444398, 30.91440362048397], [31.921350318315167, 28.31102049320865], [40.6630138383624, 25.544103078211442], [49.12656087431311, 42.164916294594796], [57.191187032904466, 50.53224470253008], [72.90742153049493, 58.95265963820297], [60.87009305611089, 64.99446111020227], [25.64787182886855, 72.09663891778112], [-19.80293148147738, 70.46758464403167], [-56.50634208232597, 56.484535695188306], [-41.040859788996734, 48.58346499968482], [-32.75909186932784, 40.537952981711484], [-27.059315550168147, 31.653935386299985], [-23.826273026581656, 24.283554582406], [-9.291577489959689, 28.948048779529504]]}, 'system:time_end': 1546300800000, 'landcover_class_values': [111, 112, 121, 122, 123, 124, 131, 132, 133, 141, 142, 211, 212, 213, 221, 222, 223, 231, 241, 242, 243, 244, 311, 312, 313, 321, 322, 323, 324, 331, 332, 333, 334, 335, 411, 412, 421, 422, 423, 511, 512, 521, 522, 523], 'system:asset_size': 134244151, 'landcover_class_palette': ['E6004D', 'FF0000', 'CC4DF2', 'CC0000', 'E6CCCC', 'E6CCE6', 'A600CC', 'A64DCC', 'FF4DFF', 'FFA6FF', 'FFE6FF', 'FFFFA8', 'FFFF00', 'E6E600', 'E68000', 'F2A64D', 'E6A600', 'E6E64D', 'FFE6A6', 'FFE64D', 'E6CC4D', 'F2CCA6', '80FF00', '00A600', '4DFF00', 'CCF24D', 'A6FF80', 'A6E64D', 'A6F200', 'E6E6E6', 'CCCCCC', 'CCFFCC', '000000', 'A6E6CC', 'A6A6FF', '4D4DFF', 'CCCCFF', 'E6E6FF', 'A6A6E6', '00CCF2', '80F2E6', '00FFA6', 'A6FFE6', 'E6F2FF'], 'system:index': '2018'}}\n",
      "Artificial surfaces; urban fabric; continuous urban fabric\n",
      "Artificial surfaces; urban fabric; discontinuous urban fabric\n",
      "Artificial surfaces; industrial, commercial, and transport units; industrial or commercial units\n",
      "Artificial surfaces; industrial, commercial, and transport units; road and rail networks and associated land\n",
      "Artificial surfaces; industrial, commercial, and transport units; port areas\n",
      "Artificial surfaces; industrial, commercial, and transport units; airports\n",
      "Artificial surfaces; mine, dump, and construction sites; mineral extraction sites\n",
      "Artificial surfaces; mine, dump, and construction sites; dump sites\n",
      "Artificial surfaces; mine, dump, and construction sites; construction sites\n",
      "Artificial surfaces; artificial, non-agricultural vegetated areas; green urban areas\n",
      "Artificial surfaces; artificial, non-agricultural vegetated areas; sport and leisure facilities\n",
      "Agricultural areas; arable land; non-irrigated arable land\n",
      "Agricultural areas; arable land; permanently irrigated land\n",
      "Agricultural areas; arable land; rice fields\n",
      "Agricultural areas; permanent crops; vineyards\n",
      "Agricultural areas; permanent crops; fruit trees and berry plantations\n",
      "Agricultural areas; permanent crops; olive groves\n",
      "Agricultural areas; pastures; pastures\n",
      "Agricultural areas; heterogeneous agricultural areas; annual crops associated with permanent crops\n",
      "Agricultural areas; heterogeneous agricultural areas; complex cultivation patterns\n",
      "Agricultural areas; heterogeneous agricultural areas; land principally occupied by agriculture, with significant areas of natural vegetation\n",
      "Agricultural areas; heterogeneous agricultural areas; agro-forestry areas\n",
      "Forest and semi natural areas; forests; broad-leaved forest\n",
      "Forest and semi natural areas; forests; coniferous forest\n",
      "Forest and semi natural areas; forests; mixed forest\n",
      "Forest and semi natural areas; scrub and/or herbaceous vegetation associations; natural grasslands\n",
      "Forest and semi natural areas; scrub and/or herbaceous vegetation associations; moors and heathland\n",
      "Forest and semi natural areas; scrub and/or herbaceous vegetation associations; sclerophyllous vegetation\n",
      "Forest and semi natural areas; scrub and/or herbaceous vegetation associations; transitional woodland-shrub\n",
      "Forest and semi natural areas; open spaces with little or no vegetation; beaches, dunes, sands\n",
      "Forest and semi natural areas; open spaces with little or no vegetation; bare rocks\n",
      "Forest and semi natural areas; open spaces with little or no vegetation; sparsely vegetated areas\n",
      "Forest and semi natural areas; open spaces with little or no vegetation; burnt areas\n",
      "Forest and semi natural areas; open spaces with little or no vegetation; glaciers and perpetual snow\n",
      "Wetlands; inland wetlands; inland marshes\n",
      "Wetlands; inland wetlands; peat bogs\n",
      "Wetlands; maritime wetlands; salt marshes\n",
      "Wetlands; maritime wetlands; salines\n",
      "Wetlands; maritime wetlands; intertidal flats\n",
      "Water bodies; inland waters; water courses\n",
      "Water bodies; inland waters; water bodies\n",
      "Water bodies; marine waters; coastal lagoons\n",
      "Water bodies; marine waters; estuaries\n",
      "Water bodies; marine waters; sea and ocean\n",
      "{'system:time_start': 1483228800000, 'landcover_class_names': ['Artificial surfaces; urban fabric; continuous urban fabric', 'Artificial surfaces; urban fabric; discontinuous urban fabric', 'Artificial surfaces; industrial, commercial, and transport units; industrial or commercial units', 'Artificial surfaces; industrial, commercial, and transport units; road and rail networks and associated land', 'Artificial surfaces; industrial, commercial, and transport units; port areas', 'Artificial surfaces; industrial, commercial, and transport units; airports', 'Artificial surfaces; mine, dump, and construction sites; mineral extraction sites', 'Artificial surfaces; mine, dump, and construction sites; dump sites', 'Artificial surfaces; mine, dump, and construction sites; construction sites', 'Artificial surfaces; artificial, non-agricultural vegetated areas; green urban areas', 'Artificial surfaces; artificial, non-agricultural vegetated areas; sport and leisure facilities', 'Agricultural areas; arable land; non-irrigated arable land', 'Agricultural areas; arable land; permanently irrigated land', 'Agricultural areas; arable land; rice fields', 'Agricultural areas; permanent crops; vineyards', 'Agricultural areas; permanent crops; fruit trees and berry plantations', 'Agricultural areas; permanent crops; olive groves', 'Agricultural areas; pastures; pastures', 'Agricultural areas; heterogeneous agricultural areas; annual crops associated with permanent crops', 'Agricultural areas; heterogeneous agricultural areas; complex cultivation patterns', 'Agricultural areas; heterogeneous agricultural areas; land principally occupied by agriculture, with significant areas of natural vegetation', 'Agricultural areas; heterogeneous agricultural areas; agro-forestry areas', 'Forest and semi natural areas; forests; broad-leaved forest', 'Forest and semi natural areas; forests; coniferous forest', 'Forest and semi natural areas; forests; mixed forest', 'Forest and semi natural areas; scrub and/or herbaceous vegetation associations; natural grasslands', 'Forest and semi natural areas; scrub and/or herbaceous vegetation associations; moors and heathland', 'Forest and semi natural areas; scrub and/or herbaceous vegetation associations; sclerophyllous vegetation', 'Forest and semi natural areas; scrub and/or herbaceous vegetation associations; transitional woodland-shrub', 'Forest and semi natural areas; open spaces with little or no vegetation; beaches, dunes, sands', 'Forest and semi natural areas; open spaces with little or no vegetation; bare rocks', 'Forest and semi natural areas; open spaces with little or no vegetation; sparsely vegetated areas', 'Forest and semi natural areas; open spaces with little or no vegetation; burnt areas', 'Forest and semi natural areas; open spaces with little or no vegetation; glaciers and perpetual snow', 'Wetlands; inland wetlands; inland marshes', 'Wetlands; inland wetlands; peat bogs', 'Wetlands; maritime wetlands; salt marshes', 'Wetlands; maritime wetlands; salines', 'Wetlands; maritime wetlands; intertidal flats', 'Water bodies; inland waters; water courses', 'Water bodies; inland waters; water bodies', 'Water bodies; marine waters; coastal lagoons', 'Water bodies; marine waters; estuaries', 'Water bodies; marine waters; sea and ocean'], 'system:footprint': {'type': 'LinearRing', 'coordinates': [[-9.291577489959689, 28.948048779529504], [-1.1348922141878568, 30.384108013567815], [15.560478296444398, 30.91440362048397], [31.921350318315167, 28.31102049320865], [40.6630138383624, 25.544103078211442], [49.12656087431311, 42.164916294594796], [57.191187032904466, 50.53224470253008], [72.90742153049493, 58.95265963820297], [60.87009305611089, 64.99446111020227], [25.64787182886855, 72.09663891778112], [-19.80293148147738, 70.46758464403167], [-56.50634208232597, 56.484535695188306], [-41.040859788996734, 48.58346499968482], [-32.75909186932784, 40.537952981711484], [-27.059315550168147, 31.653935386299985], [-23.826273026581656, 24.283554582406], [-9.291577489959689, 28.948048779529504]]}, 'system:time_end': 1546300800000, 'landcover_class_values': [111, 112, 121, 122, 123, 124, 131, 132, 133, 141, 142, 211, 212, 213, 221, 222, 223, 231, 241, 242, 243, 244, 311, 312, 313, 321, 322, 323, 324, 331, 332, 333, 334, 335, 411, 412, 421, 422, 423, 511, 512, 521, 522, 523], 'system:asset_size': 134244151, 'landcover_class_palette': ['E6004D', 'FF0000', 'CC4DF2', 'CC0000', 'E6CCCC', 'E6CCE6', 'A600CC', 'A64DCC', 'FF4DFF', 'FFA6FF', 'FFE6FF', 'FFFFA8', 'FFFF00', 'E6E600', 'E68000', 'F2A64D', 'E6A600', 'E6E64D', 'FFE6A6', 'FFE64D', 'E6CC4D', 'F2CCA6', '80FF00', '00A600', '4DFF00', 'CCF24D', 'A6FF80', 'A6E64D', 'A6F200', 'E6E6E6', 'CCCCCC', 'CCFFCC', '000000', 'A6E6CC', 'A6A6FF', '4D4DFF', 'CCCCFF', 'E6E6FF', 'A6A6E6', '00CCF2', '80F2E6', '00FFA6', 'A6FFE6', 'E6F2FF'], 'system:index': '2018'}\n",
      "[111, 112, 121, 122, 123, 124, 131, 132, 133, 141, 142, 211, 212, 213, 221, 222, 223, 231, 241, 242, 243, 244, 311, 312, 313, 321, 322, 323, 324, 331, 332, 333, 334, 335, 411, 412, 421, 422, 423, 511, 512, 521, 522, 523]\n",
      "44\n"
     ]
    }
   ],
   "source": [
    "print(image.getInfo())\n",
    "for landclass in image.getInfo()['properties']['landcover_class_names']:\n",
    "    print(landclass)\n",
    "print(image.getInfo()['properties'])\n",
    "print(image.getInfo()['properties']['landcover_class_values'])\n",
    "print(len(image.getInfo()['properties']['landcover_class_names']))\n",
    "\n",
    "valid_classes = image.getInfo()['properties']['landcover_class_values']"
   ]
  },
  {
   "cell_type": "code",
   "execution_count": 6,
   "metadata": {},
   "outputs": [
    {
     "ename": "NameError",
     "evalue": "name 'extract_pixel_data' is not defined",
     "output_type": "error",
     "traceback": [
      "\u001b[0;31m---------------------------------------------------------------------------\u001b[0m",
      "\u001b[0;31mHttpError\u001b[0m                                 Traceback (most recent call last)",
      "File \u001b[0;32m/Library/Frameworks/Python.framework/Versions/3.10/lib/python3.10/site-packages/ee/data.py:352\u001b[0m, in \u001b[0;36m_execute_cloud_call\u001b[0;34m(call, num_retries)\u001b[0m\n\u001b[1;32m    351\u001b[0m \u001b[39mtry\u001b[39;00m:\n\u001b[0;32m--> 352\u001b[0m   \u001b[39mreturn\u001b[39;00m call\u001b[39m.\u001b[39;49mexecute(num_retries\u001b[39m=\u001b[39;49mnum_retries)\n\u001b[1;32m    353\u001b[0m \u001b[39mexcept\u001b[39;00m googleapiclient\u001b[39m.\u001b[39merrors\u001b[39m.\u001b[39mHttpError \u001b[39mas\u001b[39;00m e:\n",
      "File \u001b[0;32m/Library/Frameworks/Python.framework/Versions/3.10/lib/python3.10/site-packages/googleapiclient/_helpers.py:130\u001b[0m, in \u001b[0;36mpositional.<locals>.positional_decorator.<locals>.positional_wrapper\u001b[0;34m(*args, **kwargs)\u001b[0m\n\u001b[1;32m    129\u001b[0m         logger\u001b[39m.\u001b[39mwarning(message)\n\u001b[0;32m--> 130\u001b[0m \u001b[39mreturn\u001b[39;00m wrapped(\u001b[39m*\u001b[39;49margs, \u001b[39m*\u001b[39;49m\u001b[39m*\u001b[39;49mkwargs)\n",
      "File \u001b[0;32m/Library/Frameworks/Python.framework/Versions/3.10/lib/python3.10/site-packages/googleapiclient/http.py:938\u001b[0m, in \u001b[0;36mHttpRequest.execute\u001b[0;34m(self, http, num_retries)\u001b[0m\n\u001b[1;32m    937\u001b[0m \u001b[39mif\u001b[39;00m resp\u001b[39m.\u001b[39mstatus \u001b[39m>\u001b[39m\u001b[39m=\u001b[39m \u001b[39m300\u001b[39m:\n\u001b[0;32m--> 938\u001b[0m     \u001b[39mraise\u001b[39;00m HttpError(resp, content, uri\u001b[39m=\u001b[39m\u001b[39mself\u001b[39m\u001b[39m.\u001b[39muri)\n\u001b[1;32m    939\u001b[0m \u001b[39mreturn\u001b[39;00m \u001b[39mself\u001b[39m\u001b[39m.\u001b[39mpostproc(resp, content)\n",
      "\u001b[0;31mHttpError\u001b[0m: <HttpError 400 when requesting https://earthengine.googleapis.com/v1/projects/earthengine-legacy/value:compute?prettyPrint=false&alt=json returned \"User memory limit exceeded.\". Details: \"User memory limit exceeded.\">",
      "\nDuring handling of the above exception, another exception occurred:\n",
      "\u001b[0;31mEEException\u001b[0m                               Traceback (most recent call last)",
      "\u001b[1;32m/Users/gustavodanon/Desktop/Projetos - Programação/Intercambio/Code/clc.ipynb Célula 6\u001b[0m line \u001b[0;36m<module>\u001b[0;34m\u001b[0m\n\u001b[1;32m      <a href='vscode-notebook-cell:/Users/gustavodanon/Desktop/Projetos%20-%20Programa%C3%A7%C3%A3o/Intercambio/Code/clc.ipynb#W5sZmlsZQ%3D%3D?line=0'>1</a>\u001b[0m roi \u001b[39m=\u001b[39m Italy\n\u001b[0;32m----> <a href='vscode-notebook-cell:/Users/gustavodanon/Desktop/Projetos%20-%20Programa%C3%A7%C3%A3o/Intercambio/Code/clc.ipynb#W5sZmlsZQ%3D%3D?line=2'>3</a>\u001b[0m pixel_data \u001b[39m=\u001b[39m extract_pixel_data(image, roi, pixel_key\u001b[39m=\u001b[39;49m\u001b[39m'\u001b[39;49m\u001b[39mlandcover\u001b[39;49m\u001b[39m'\u001b[39;49m)\n\u001b[1;32m      <a href='vscode-notebook-cell:/Users/gustavodanon/Desktop/Projetos%20-%20Programa%C3%A7%C3%A3o/Intercambio/Code/clc.ipynb#W5sZmlsZQ%3D%3D?line=3'>4</a>\u001b[0m \u001b[39mprint\u001b[39m(pixel_data)\n",
      "File \u001b[0;32m~/Desktop/Projetos - Programação/Intercambio/Code/my_functions/gpd_functions.py:15\u001b[0m, in \u001b[0;36mextract_pixel_data\u001b[0;34m(image_classified, roi, pixel_key)\u001b[0m\n\u001b[1;32m      7\u001b[0m pixel_data \u001b[39m=\u001b[39m image_classified\u001b[39m.\u001b[39mreduceRegion(\n\u001b[1;32m      8\u001b[0m     reducer\u001b[39m=\u001b[39mee\u001b[39m.\u001b[39mReducer\u001b[39m.\u001b[39mtoList(),\n\u001b[1;32m      9\u001b[0m     geometry\u001b[39m=\u001b[39mroi,\n\u001b[1;32m     10\u001b[0m     scale\u001b[39m=\u001b[39m\u001b[39m10\u001b[39m,\n\u001b[1;32m     11\u001b[0m     maxPixels\u001b[39m=\u001b[39m\u001b[39m1e16\u001b[39m  \u001b[39m# Adjust as needed\u001b[39;00m\n\u001b[1;32m     12\u001b[0m )\n\u001b[1;32m     14\u001b[0m \u001b[39m# Extract pixel coordinates and classification values\u001b[39;00m\n\u001b[0;32m---> 15\u001b[0m pixel_coordinates \u001b[39m=\u001b[39m ee\u001b[39m.\u001b[39;49mList(pixel_data\u001b[39m.\u001b[39;49mget(pixel_key))\u001b[39m.\u001b[39;49mgetInfo()\n\u001b[1;32m     17\u001b[0m \u001b[39m# Print the sampled pixel coordinates and classification values\u001b[39;00m\n\u001b[1;32m     18\u001b[0m \u001b[39m# print(len(pixel_coordinates))\u001b[39;00m\n\u001b[1;32m     19\u001b[0m \u001b[39m# for i, classification in enumerate(pixel_coordinates):\u001b[39;00m\n\u001b[1;32m     20\u001b[0m \u001b[39m#     print(f\"Pixel {i + 1} - Classification Value: {classification}\")\u001b[39;00m\n\u001b[1;32m     22\u001b[0m \u001b[39mreturn\u001b[39;00m pixel_coordinates\n",
      "File \u001b[0;32m/Library/Frameworks/Python.framework/Versions/3.10/lib/python3.10/site-packages/ee/computedobject.py:103\u001b[0m, in \u001b[0;36mComputedObject.getInfo\u001b[0;34m(self)\u001b[0m\n\u001b[1;32m     97\u001b[0m \u001b[39mdef\u001b[39;00m \u001b[39mgetInfo\u001b[39m(\u001b[39mself\u001b[39m) \u001b[39m-\u001b[39m\u001b[39m>\u001b[39m Optional[Any]:\n\u001b[1;32m     98\u001b[0m   \u001b[39m\"\"\"Fetch and return information about this object.\u001b[39;00m\n\u001b[1;32m     99\u001b[0m \n\u001b[1;32m    100\u001b[0m \u001b[39m  Returns:\u001b[39;00m\n\u001b[1;32m    101\u001b[0m \u001b[39m    The object can evaluate to anything.\u001b[39;00m\n\u001b[1;32m    102\u001b[0m \u001b[39m  \"\"\"\u001b[39;00m\n\u001b[0;32m--> 103\u001b[0m   \u001b[39mreturn\u001b[39;00m data\u001b[39m.\u001b[39;49mcomputeValue(\u001b[39mself\u001b[39;49m)\n",
      "File \u001b[0;32m/Library/Frameworks/Python.framework/Versions/3.10/lib/python3.10/site-packages/ee/data.py:971\u001b[0m, in \u001b[0;36mcomputeValue\u001b[0;34m(obj)\u001b[0m\n\u001b[1;32m    968\u001b[0m body \u001b[39m=\u001b[39m {\u001b[39m'\u001b[39m\u001b[39mexpression\u001b[39m\u001b[39m'\u001b[39m: serializer\u001b[39m.\u001b[39mencode(obj, for_cloud_api\u001b[39m=\u001b[39m\u001b[39mTrue\u001b[39;00m)}\n\u001b[1;32m    969\u001b[0m _maybe_populate_workload_tag(body)\n\u001b[0;32m--> 971\u001b[0m \u001b[39mreturn\u001b[39;00m _execute_cloud_call(\n\u001b[1;32m    972\u001b[0m     _get_cloud_projects()\n\u001b[1;32m    973\u001b[0m     \u001b[39m.\u001b[39;49mvalue()\n\u001b[1;32m    974\u001b[0m     \u001b[39m.\u001b[39;49mcompute(body\u001b[39m=\u001b[39;49mbody, project\u001b[39m=\u001b[39;49m_get_projects_path(), prettyPrint\u001b[39m=\u001b[39;49m\u001b[39mFalse\u001b[39;49;00m)\n\u001b[1;32m    975\u001b[0m )[\u001b[39m'\u001b[39m\u001b[39mresult\u001b[39m\u001b[39m'\u001b[39m]\n",
      "File \u001b[0;32m/Library/Frameworks/Python.framework/Versions/3.10/lib/python3.10/site-packages/ee/data.py:354\u001b[0m, in \u001b[0;36m_execute_cloud_call\u001b[0;34m(call, num_retries)\u001b[0m\n\u001b[1;32m    352\u001b[0m   \u001b[39mreturn\u001b[39;00m call\u001b[39m.\u001b[39mexecute(num_retries\u001b[39m=\u001b[39mnum_retries)\n\u001b[1;32m    353\u001b[0m \u001b[39mexcept\u001b[39;00m googleapiclient\u001b[39m.\u001b[39merrors\u001b[39m.\u001b[39mHttpError \u001b[39mas\u001b[39;00m e:\n\u001b[0;32m--> 354\u001b[0m   \u001b[39mraise\u001b[39;00m _translate_cloud_exception(e)\n",
      "\u001b[0;31mEEException\u001b[0m: User memory limit exceeded."
     ]
    }
   ],
   "source": [
    "roi = Italy\n",
    "\n",
    "pixel_data = extract_pixel_data(image, roi, pixel_key='landcover')\n",
    "print(pixel_data)"
   ]
  },
  {
   "cell_type": "code",
   "execution_count": null,
   "metadata": {},
   "outputs": [],
   "source": [
    "gdf = add_landcover_column(ee_image=image, gpd_file=\"datasets/mosaic_test.geojson\", feature_qnt=524, pixel_key='landcover')\n",
    "\n",
    "def filter_lists(row):\n",
    "    str_list = row[1:-1]  # Remove square brackets\n",
    "    str_list = str_list.split(', ')  # Split by comma and space\n",
    "    str_list = [float(x) for x in str_list]\n",
    "    \n",
    "    return str([item for i, item in enumerate(str_list) if i in valid_classes])\n",
    "\n",
    "gdf['landcover'] = gdf['landcover'].apply(filter_lists)\n",
    "\n",
    "gdf.to_file(\"datasets/new_mosaic_clc.geojson\", driver=\"GeoJSON\")"
   ]
  }
 ],
 "metadata": {
  "kernelspec": {
   "display_name": "Python 3",
   "language": "python",
   "name": "python3"
  },
  "language_info": {
   "codemirror_mode": {
    "name": "ipython",
    "version": 3
   },
   "file_extension": ".py",
   "mimetype": "text/x-python",
   "name": "python",
   "nbconvert_exporter": "python",
   "pygments_lexer": "ipython3",
   "version": "3.10.2"
  },
  "orig_nbformat": 4
 },
 "nbformat": 4,
 "nbformat_minor": 2
}
