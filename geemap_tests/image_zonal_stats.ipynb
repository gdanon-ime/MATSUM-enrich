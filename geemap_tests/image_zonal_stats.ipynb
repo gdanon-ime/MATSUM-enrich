{
 "cells": [
  {
   "cell_type": "markdown",
   "metadata": {},
   "source": [
    "GEEMAP BASE CODE\n",
    "\n",
    "https://github.com/gee-community/geemap/blob/master/docs/notebooks/108_image_zonal_stats.ipynb"
   ]
  },
  {
   "cell_type": "code",
   "execution_count": 1,
   "metadata": {},
   "outputs": [],
   "source": [
    "import ee\n",
    "import geemap\n",
    "import geopandas as gpd\n",
    "import json\n",
    "import os\n",
    "\n",
    "# Run as service account\n",
    "service_account = 'ee-account@airy-galaxy-398310.iam.gserviceaccount.com'\n",
    "credentials = ee.ServiceAccountCredentials(service_account, '.private-key.json')\n",
    "\n",
    "ee.Initialize(credentials)\n",
    "\n",
    "Map = geemap.Map(center=[43.7196, 10.4250], zoom=5)\n",
    "# Map"
   ]
  },
  {
   "cell_type": "code",
   "execution_count": 2,
   "metadata": {},
   "outputs": [],
   "source": [
    "import geemap.colormaps as cm\n",
    "\n",
    "dem = ee.Image('USGS/3DEP/10m')\n",
    "vis = {'min': 0, 'max': 4000, 'palette': cm.palettes.dem}\n",
    "\n",
    "Map.addLayer(dem, vis, 'DEM')"
   ]
  },
  {
   "cell_type": "code",
   "execution_count": 3,
   "metadata": {},
   "outputs": [
    {
     "data": {
      "application/vnd.jupyter.widget-view+json": {
       "model_id": "e25328e9f311410ab141b669e8be0a80",
       "version_major": 2,
       "version_minor": 0
      },
      "text/plain": [
       "Map(center=[43.7196, 10.425], controls=(WidgetControl(options=['position', 'transparent_bg'], widget=HBox(chil…"
      ]
     },
     "execution_count": 3,
     "metadata": {},
     "output_type": "execute_result"
    }
   ],
   "source": [
    "landcover = ee.Image(\"USGS/NLCD_RELEASES/2019_REL/NLCD/2019\").select('landcover')\n",
    "\n",
    "Map.addLayer(landcover, {}, 'NLCD 2019')\n",
    "Map.add_legend(builtin_legend='NLCD')\n",
    "\n",
    "Map"
   ]
  },
  {
   "cell_type": "code",
   "execution_count": 5,
   "metadata": {},
   "outputs": [
    {
     "data": {
      "text/plain": [
       "'/Users/gustavodanon/Downloads/std.csv'"
      ]
     },
     "execution_count": 5,
     "metadata": {},
     "output_type": "execute_result"
    }
   ],
   "source": [
    "work_dir = os.path.expanduser('~/Downloads')\n",
    "out_csv = os.path.join(work_dir, 'std.csv')\n",
    "mean_csv = os.path.join(work_dir, 'mean.csv')\n",
    "\n",
    "geemap.image_stats_by_zone(dem, landcover, out_csv=out_csv, reducer='STD')"
   ]
  }
 ],
 "metadata": {
  "kernelspec": {
   "display_name": "Python 3",
   "language": "python",
   "name": "python3"
  },
  "language_info": {
   "codemirror_mode": {
    "name": "ipython",
    "version": 3
   },
   "file_extension": ".py",
   "mimetype": "text/x-python",
   "name": "python",
   "nbconvert_exporter": "python",
   "pygments_lexer": "ipython3",
   "version": "3.10.2"
  }
 },
 "nbformat": 4,
 "nbformat_minor": 2
}
