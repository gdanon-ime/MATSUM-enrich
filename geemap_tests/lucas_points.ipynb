{
    "cells": [
        {
            "cell_type": "markdown",
            "id": "c7fbedbb",
            "metadata": {},
            "source": [
                "LUCAS EE\n",
                "\n",
                "https://developers.google.com/earth-engine/datasets/catalog/JRC_LUCAS_HARMO_THLOC_V1#citations"
            ]
        },
        {
            "cell_type": "code",
            "execution_count": null,
            "metadata": {},
            "outputs": [],
            "source": [
                "import ee\n",
                "import geemap\n",
                "import pandas as pd\n",
                "import geopandas as gpd\n",
                "import json\n",
                "import os\n",
                "\n",
                "# Run as service account\n",
                "service_account = '...com'\n",
                "credentials = ee.ServiceAccountCredentials(service_account, '.private-key.json')\n",
                "\n",
                "ee.Initialize(credentials)\n",
                "\n",
                "Map = geemap.Map(center=[43.7196, 10.4250], zoom=5)\n",
                "# Map"
            ]
        },
        {
            "cell_type": "code",
            "execution_count": null,
            "id": "36d3fa59",
            "metadata": {},
            "outputs": [],
            "source": [
                "gpdfile = 'rois.geojson'\n",
                "gdf = gpd.read_file(gpdfile)\n",
                "ee_fc = geemap.gdf_to_ee(gdf)"
            ]
        },
        {
            "cell_type": "code",
            "execution_count": null,
            "metadata": {},
            "outputs": [],
            "source": [
                "lucas = ee.FeatureCollection('JRC/LUCAS_HARMO/THLOC/V1')\\\n",
                "  .select(['point_id', 'lu1', 'lu1_label'])\n",
                "\n",
                "# lucas_df = geemap.ee_to_pandas(lucas)\n",
                "# lucas_df"
            ]
        },
        {
            "cell_type": "code",
            "execution_count": null,
            "metadata": {},
            "outputs": [],
            "source": [
                "print(ee_fc.geometry().getInfo())"
            ]
        },
        {
            "cell_type": "code",
            "execution_count": null,
            "metadata": {},
            "outputs": [],
            "source": [
                "filtered_lucas = lucas.filterBounds(ee_fc.geometry()).limit(5000)\n",
                "print(filtered_lucas.getInfo())\n",
                "\n",
                "Map.addLayer(filtered_lucas, {}, 'Points')\n",
                "Map.addLayer(ee_fc, {}, 'Points Original')\n",
                "Map"
            ]
        }
    ],
    "metadata": {
        "kernelspec": {
            "display_name": "Python 3",
            "language": "python",
            "name": "python3"
        },
        "language_info": {
            "codemirror_mode": {
                "name": "ipython",
                "version": 3
            },
            "file_extension": ".py",
            "mimetype": "text/x-python",
            "name": "python",
            "nbconvert_exporter": "python",
            "pygments_lexer": "ipython3",
            "version": "3.10.2"
        }
    },
    "nbformat": 4,
    "nbformat_minor": 5
}
