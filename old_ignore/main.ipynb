{
 "cells": [
  {
   "cell_type": "code",
   "execution_count": 1,
   "metadata": {},
   "outputs": [],
   "source": [
    "import ee\n",
    "import geemap\n",
    "import geopandas as gpd\n",
    "import json\n",
    "\n",
    "service_account = 'ee-account@airy-galaxy-398310.iam.gserviceaccount.com'\n",
    "credentials = ee.ServiceAccountCredentials(service_account, '.private-key.json')\n",
    "\n",
    "ee.Initialize(credentials)\n",
    "\n",
    "import classification as CF\n",
    "import accuracy as ACC\n",
    "from add_column import add_landcover_column"
   ]
  },
  {
   "cell_type": "code",
   "execution_count": 2,
   "metadata": {},
   "outputs": [],
   "source": [
    "datasets = [\n",
    "    \"projects/sat-io/open-datasets/landcover/ESRI_Global-LULC_10m_TS\",\n",
    "    \"projects/sat-io/open-datasets/NINA/ELC10\",\n",
    "    \"COPERNICUS/CORINE/V20/100m\"\n",
    "]"
   ]
  },
  {
   "cell_type": "code",
   "execution_count": 3,
   "metadata": {},
   "outputs": [
    {
     "name": "stdout",
     "output_type": "stream",
     "text": [
      "['b1']\n",
      "{'type': 'Image', 'bands': [{'id': 'b1', 'data_type': {'type': 'PixelType', 'precision': 'int', 'min': 0, 'max': 255}, 'dimensions': [20686, 89414], 'crs': 'EPSG:32701', 'crs_transform': [10, 0, 396569.58269600547, 0, -10, 2011064.3450437225]}], 'version': 1663385245823962, 'id': 'projects/sat-io/open-datasets/landcover/ESRI_Global-LULC_10m_TS/01C_20170101-20180101', 'properties': {'system:time_start': 1483234200000, 'num_bands': 1, 'id_no': '01C_20170101-20180101', 'ysize': 89414, 'system:footprint': {'type': 'LinearRing', 'coordinates': [[-172.72352926547543, -77.47593585421382], [-173.03460177536232, -76.47695983709995], [-173.30249658490283, -75.47755394033669], [-173.5355377617104, -74.47778004397523], [-173.7400397987115, -73.47768411126914], [-174.003669971275, -71.97691915929559], [-179.99635415698984, -71.97691871038212], [179.74001347125807, -73.47768372626119], [179.53550980159105, -74.47777956454652], [179.3024668571339, -75.47755343070565], [179.0345697832042, -76.47695940007111], [178.72349477332068, -77.4759353084393], [178.35804332485267, -78.47439588197716], [177.6724424856133, -79.97093453770945], [-171.67248552743447, -79.97093519827766], [-172.35808044709776, -78.47439647496097], [-172.72352926547543, -77.47593585421382]]}, 'system:time_end': 1514683800000, 'xsize': 20686, 'system:asset_size': 346245, 'system:index': '01C_20170101-20180101'}}\n"
     ]
    }
   ],
   "source": [
    "# Find the valid clasees and band name to classify\n",
    "print(ee.ImageCollection(datasets[1]).first().bandNames().getInfo())\n",
    "print(ee.ImageCollection(datasets[1]).first().getInfo())\n",
    "\n",
    "from_list = [1,2,4,5,7,8,9,10,11]\n",
    "to_list = [i for i in range(9)]"
   ]
  },
  {
   "cell_type": "code",
   "execution_count": 4,
   "metadata": {},
   "outputs": [],
   "source": [
    "image = CF.classification(datasets[0])\n",
    "\n",
    "# If there is remapping, new column is \"remapped\"\n",
    "# image = image.remap(from_list, to_list, defaultValue=0, bandName='landcover')"
   ]
  },
  {
   "cell_type": "code",
   "execution_count": 5,
   "metadata": {},
   "outputs": [
    {
     "ename": "EEException",
     "evalue": "Computation timed out.",
     "output_type": "error",
     "traceback": [
      "\u001b[0;31m---------------------------------------------------------------------------\u001b[0m",
      "\u001b[0;31mHttpError\u001b[0m                                 Traceback (most recent call last)",
      "File \u001b[0;32m/Library/Frameworks/Python.framework/Versions/3.10/lib/python3.10/site-packages/ee/data.py:352\u001b[0m, in \u001b[0;36m_execute_cloud_call\u001b[0;34m(call, num_retries)\u001b[0m\n\u001b[1;32m    351\u001b[0m \u001b[39mtry\u001b[39;00m:\n\u001b[0;32m--> 352\u001b[0m   \u001b[39mreturn\u001b[39;00m call\u001b[39m.\u001b[39;49mexecute(num_retries\u001b[39m=\u001b[39;49mnum_retries)\n\u001b[1;32m    353\u001b[0m \u001b[39mexcept\u001b[39;00m googleapiclient\u001b[39m.\u001b[39merrors\u001b[39m.\u001b[39mHttpError \u001b[39mas\u001b[39;00m e:\n",
      "File \u001b[0;32m/Library/Frameworks/Python.framework/Versions/3.10/lib/python3.10/site-packages/googleapiclient/_helpers.py:130\u001b[0m, in \u001b[0;36mpositional.<locals>.positional_decorator.<locals>.positional_wrapper\u001b[0;34m(*args, **kwargs)\u001b[0m\n\u001b[1;32m    129\u001b[0m         logger\u001b[39m.\u001b[39mwarning(message)\n\u001b[0;32m--> 130\u001b[0m \u001b[39mreturn\u001b[39;00m wrapped(\u001b[39m*\u001b[39;49margs, \u001b[39m*\u001b[39;49m\u001b[39m*\u001b[39;49mkwargs)\n",
      "File \u001b[0;32m/Library/Frameworks/Python.framework/Versions/3.10/lib/python3.10/site-packages/googleapiclient/http.py:938\u001b[0m, in \u001b[0;36mHttpRequest.execute\u001b[0;34m(self, http, num_retries)\u001b[0m\n\u001b[1;32m    937\u001b[0m \u001b[39mif\u001b[39;00m resp\u001b[39m.\u001b[39mstatus \u001b[39m>\u001b[39m\u001b[39m=\u001b[39m \u001b[39m300\u001b[39m:\n\u001b[0;32m--> 938\u001b[0m     \u001b[39mraise\u001b[39;00m HttpError(resp, content, uri\u001b[39m=\u001b[39m\u001b[39mself\u001b[39m\u001b[39m.\u001b[39muri)\n\u001b[1;32m    939\u001b[0m \u001b[39mreturn\u001b[39;00m \u001b[39mself\u001b[39m\u001b[39m.\u001b[39mpostproc(resp, content)\n",
      "\u001b[0;31mHttpError\u001b[0m: <HttpError 400 when requesting https://earthengine.googleapis.com/v1/projects/earthengine-legacy/value:compute?prettyPrint=false&alt=json returned \"Computation timed out.\". Details: \"Computation timed out.\">",
      "\nDuring handling of the above exception, another exception occurred:\n",
      "\u001b[0;31mEEException\u001b[0m                               Traceback (most recent call last)",
      "\u001b[1;32m/Users/gustavodanon/Desktop/Projetos - Programação/Intercambio/Code/v1/main.ipynb Célula 5\u001b[0m line \u001b[0;36m<module>\u001b[0;34m\u001b[0m\n\u001b[1;32m      <a href='vscode-notebook-cell:/Users/gustavodanon/Desktop/Projetos%20-%20Programa%C3%A7%C3%A3o/Intercambio/Code/v1/main.ipynb#W4sZmlsZQ%3D%3D?line=0'>1</a>\u001b[0m table \u001b[39m=\u001b[39m ACC\u001b[39m.\u001b[39mget_acc(image, params\u001b[39m=\u001b[39m{\n\u001b[1;32m      <a href='vscode-notebook-cell:/Users/gustavodanon/Desktop/Projetos%20-%20Programa%C3%A7%C3%A3o/Intercambio/Code/v1/main.ipynb#W4sZmlsZQ%3D%3D?line=1'>2</a>\u001b[0m     \u001b[39m'\u001b[39m\u001b[39mscale\u001b[39m\u001b[39m'\u001b[39m: \u001b[39m30\u001b[39m\n\u001b[1;32m      <a href='vscode-notebook-cell:/Users/gustavodanon/Desktop/Projetos%20-%20Programa%C3%A7%C3%A3o/Intercambio/Code/v1/main.ipynb#W4sZmlsZQ%3D%3D?line=2'>3</a>\u001b[0m })\n\u001b[0;32m----> <a href='vscode-notebook-cell:/Users/gustavodanon/Desktop/Projetos%20-%20Programa%C3%A7%C3%A3o/Intercambio/Code/v1/main.ipynb#W4sZmlsZQ%3D%3D?line=4'>5</a>\u001b[0m CF\u001b[39m.\u001b[39;49mexport_table_task(table)\n",
      "File \u001b[0;32m~/Desktop/Projetos - Programação/Intercambio/Code/v1/classification.py:65\u001b[0m, in \u001b[0;36mexport_table_task\u001b[0;34m(table, output)\u001b[0m\n\u001b[1;32m     58\u001b[0m out_csv \u001b[39m=\u001b[39m os\u001b[39m.\u001b[39mpath\u001b[39m.\u001b[39mjoin(out_dir, \u001b[39m'\u001b[39m\u001b[39mtable.shp\u001b[39m\u001b[39m'\u001b[39m)\n\u001b[1;32m     59\u001b[0m task_config \u001b[39m=\u001b[39m {\n\u001b[1;32m     60\u001b[0m     \u001b[39m'\u001b[39m\u001b[39mee_object\u001b[39m\u001b[39m'\u001b[39m: table,\n\u001b[1;32m     61\u001b[0m     \u001b[39m'\u001b[39m\u001b[39mfilename\u001b[39m\u001b[39m'\u001b[39m: out_csv,\n\u001b[1;32m     62\u001b[0m     \u001b[39m'\u001b[39m\u001b[39mtimeout\u001b[39m\u001b[39m'\u001b[39m: \u001b[39mfloat\u001b[39m(\u001b[39m\"\u001b[39m\u001b[39minf\u001b[39m\u001b[39m\"\u001b[39m)\n\u001b[1;32m     63\u001b[0m }\n\u001b[0;32m---> 65\u001b[0m geemap\u001b[39m.\u001b[39;49mee_export_vector(\u001b[39m*\u001b[39;49m\u001b[39m*\u001b[39;49mtask_config)\n",
      "File \u001b[0;32m/Library/Frameworks/Python.framework/Versions/3.10/lib/python3.10/site-packages/geemap/common.py:1020\u001b[0m, in \u001b[0;36mee_export_vector\u001b[0;34m(ee_object, filename, selectors, verbose, keep_zip, timeout, proxies)\u001b[0m\n\u001b[1;32m   1013\u001b[0m     \u001b[39mraise\u001b[39;00m \u001b[39mValueError\u001b[39;00m(\n\u001b[1;32m   1014\u001b[0m         \u001b[39m\"\u001b[39m\u001b[39mThe file type must be one of the following: \u001b[39m\u001b[39m{}\u001b[39;00m\u001b[39m\"\u001b[39m\u001b[39m.\u001b[39mformat(\n\u001b[1;32m   1015\u001b[0m             \u001b[39m\"\u001b[39m\u001b[39m, \u001b[39m\u001b[39m\"\u001b[39m\u001b[39m.\u001b[39mjoin(allowed_formats)\n\u001b[1;32m   1016\u001b[0m         )\n\u001b[1;32m   1017\u001b[0m     )\n\u001b[1;32m   1019\u001b[0m \u001b[39mif\u001b[39;00m selectors \u001b[39mis\u001b[39;00m \u001b[39mNone\u001b[39;00m:\n\u001b[0;32m-> 1020\u001b[0m     selectors \u001b[39m=\u001b[39m ee_object\u001b[39m.\u001b[39;49mfirst()\u001b[39m.\u001b[39;49mpropertyNames()\u001b[39m.\u001b[39;49mgetInfo()\n\u001b[1;32m   1021\u001b[0m     \u001b[39mif\u001b[39;00m filetype \u001b[39m==\u001b[39m \u001b[39m\"\u001b[39m\u001b[39mcsv\u001b[39m\u001b[39m\"\u001b[39m:\n\u001b[1;32m   1022\u001b[0m         \u001b[39m# remove .geo coordinate field\u001b[39;00m\n\u001b[1;32m   1023\u001b[0m         ee_object \u001b[39m=\u001b[39m ee_object\u001b[39m.\u001b[39mselect([\u001b[39m\"\u001b[39m\u001b[39m.*\u001b[39m\u001b[39m\"\u001b[39m], \u001b[39mNone\u001b[39;00m, \u001b[39mFalse\u001b[39;00m)\n",
      "File \u001b[0;32m/Library/Frameworks/Python.framework/Versions/3.10/lib/python3.10/site-packages/ee/computedobject.py:103\u001b[0m, in \u001b[0;36mComputedObject.getInfo\u001b[0;34m(self)\u001b[0m\n\u001b[1;32m     97\u001b[0m \u001b[39mdef\u001b[39;00m \u001b[39mgetInfo\u001b[39m(\u001b[39mself\u001b[39m) \u001b[39m-\u001b[39m\u001b[39m>\u001b[39m Optional[Any]:\n\u001b[1;32m     98\u001b[0m   \u001b[39m\"\"\"Fetch and return information about this object.\u001b[39;00m\n\u001b[1;32m     99\u001b[0m \n\u001b[1;32m    100\u001b[0m \u001b[39m  Returns:\u001b[39;00m\n\u001b[1;32m    101\u001b[0m \u001b[39m    The object can evaluate to anything.\u001b[39;00m\n\u001b[1;32m    102\u001b[0m \u001b[39m  \"\"\"\u001b[39;00m\n\u001b[0;32m--> 103\u001b[0m   \u001b[39mreturn\u001b[39;00m data\u001b[39m.\u001b[39;49mcomputeValue(\u001b[39mself\u001b[39;49m)\n",
      "File \u001b[0;32m/Library/Frameworks/Python.framework/Versions/3.10/lib/python3.10/site-packages/ee/data.py:971\u001b[0m, in \u001b[0;36mcomputeValue\u001b[0;34m(obj)\u001b[0m\n\u001b[1;32m    968\u001b[0m body \u001b[39m=\u001b[39m {\u001b[39m'\u001b[39m\u001b[39mexpression\u001b[39m\u001b[39m'\u001b[39m: serializer\u001b[39m.\u001b[39mencode(obj, for_cloud_api\u001b[39m=\u001b[39m\u001b[39mTrue\u001b[39;00m)}\n\u001b[1;32m    969\u001b[0m _maybe_populate_workload_tag(body)\n\u001b[0;32m--> 971\u001b[0m \u001b[39mreturn\u001b[39;00m _execute_cloud_call(\n\u001b[1;32m    972\u001b[0m     _get_cloud_projects()\n\u001b[1;32m    973\u001b[0m     \u001b[39m.\u001b[39;49mvalue()\n\u001b[1;32m    974\u001b[0m     \u001b[39m.\u001b[39;49mcompute(body\u001b[39m=\u001b[39;49mbody, project\u001b[39m=\u001b[39;49m_get_projects_path(), prettyPrint\u001b[39m=\u001b[39;49m\u001b[39mFalse\u001b[39;49;00m)\n\u001b[1;32m    975\u001b[0m )[\u001b[39m'\u001b[39m\u001b[39mresult\u001b[39m\u001b[39m'\u001b[39m]\n",
      "File \u001b[0;32m/Library/Frameworks/Python.framework/Versions/3.10/lib/python3.10/site-packages/ee/data.py:354\u001b[0m, in \u001b[0;36m_execute_cloud_call\u001b[0;34m(call, num_retries)\u001b[0m\n\u001b[1;32m    352\u001b[0m   \u001b[39mreturn\u001b[39;00m call\u001b[39m.\u001b[39mexecute(num_retries\u001b[39m=\u001b[39mnum_retries)\n\u001b[1;32m    353\u001b[0m \u001b[39mexcept\u001b[39;00m googleapiclient\u001b[39m.\u001b[39merrors\u001b[39m.\u001b[39mHttpError \u001b[39mas\u001b[39;00m e:\n\u001b[0;32m--> 354\u001b[0m   \u001b[39mraise\u001b[39;00m _translate_cloud_exception(e)\n",
      "\u001b[0;31mEEException\u001b[0m: Computation timed out."
     ]
    }
   ],
   "source": [
    "table = ACC.get_acc(image, params={\n",
    "    'scale': 30\n",
    "})\n",
    "\n",
    "CF.export_table_task(table)"
   ]
  },
  {
   "cell_type": "code",
   "execution_count": null,
   "metadata": {},
   "outputs": [],
   "source": [
    "filename = \"input/input0.geojson\"\n",
    "gdf = add_landcover_column(**{\n",
    "    'ee_image': image,\n",
    "    'gpd_file': filename,\n",
    "    'classes_qnt': 9,\n",
    "    'pixel_key': 'b1',\n",
    "    'column_name': 'landcover'\n",
    "})\n",
    "\n",
    "output_file = \"output/output0_ESRI10m.geojson\"\n",
    "gdf.to_file(output_file, driver=\"GeoJSON\")"
   ]
  }
 ],
 "metadata": {
  "kernelspec": {
   "display_name": "Python 3",
   "language": "python",
   "name": "python3"
  },
  "language_info": {
   "codemirror_mode": {
    "name": "ipython",
    "version": 3
   },
   "file_extension": ".py",
   "mimetype": "text/x-python",
   "name": "python",
   "nbconvert_exporter": "python",
   "pygments_lexer": "ipython3",
   "version": "3.10.2"
  }
 },
 "nbformat": 4,
 "nbformat_minor": 2
}
