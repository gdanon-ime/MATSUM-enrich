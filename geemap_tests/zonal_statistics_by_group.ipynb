{
    "cells": [
        {
            "cell_type": "markdown",
            "id": "c7fbedbb",
            "metadata": {},
            "source": [
                "GEEMAP BASE CODE\n",
                "\n",
                "https://github.com/gee-community/geemap/blob/master/docs/notebooks/12_zonal_statistics.ipynb\n",
                "https://github.com/gee-community/geemap/blob/master/docs/notebooks/13_zonal_statistics_by_group.ipynb"
            ]
        },
        {
            "cell_type": "code",
            "execution_count": 1,
            "metadata": {},
            "outputs": [],
            "source": [
                "import ee\n",
                "import geemap\n",
                "import geopandas as gpd\n",
                "import json\n",
                "import os\n",
                "\n",
                "# Run as service account\n",
                "service_account = '...com'\n",
                "credentials = ee.ServiceAccountCredentials(service_account, '.private-key.json')\n",
                "\n",
                "ee.Initialize(credentials)\n",
                "\n",
                "Map = geemap.Map(center=[43.7196, 10.4250], zoom=5)\n",
                "# Map"
            ]
        },
        {
            "cell_type": "code",
            "execution_count": 2,
            "metadata": {},
            "outputs": [],
            "source": [
                "landcover = ee.Image('COPERNICUS/Landcover/100m/Proba-V-C3/Global/2019').select('discrete_classification')"
            ]
        },
        {
            "cell_type": "code",
            "execution_count": 3,
            "metadata": {},
            "outputs": [
                {
                    "name": "stdout",
                    "output_type": "stream",
                    "text": [
                        "Computing ... \n",
                        "Generating URL ...\n",
                        "Downloading data from https://earthengine.googleapis.com/v1/projects/earthengine-legacy/tables/0917611b70e345f6574afd5bb4740e58-7465fc0ca1463dff20dbc6b4252c158a:getFeatures\n",
                        "Please wait ...\n",
                        "Data downloaded to /Users/gustavodanon/Downloads/landcover.csv\n"
                    ]
                }
            ],
            "source": [
                "gpdfile = 'rois.geojson'\n",
                "gdf = gpd.read_file(gpdfile)\n",
                "ee_fc = geemap.gdf_to_ee(gdf)\n",
                "\n",
                "out_dir = os.path.join(os.path.expanduser('~'), 'Downloads')\n",
                "out_csv = os.path.join(out_dir, 'landcover.csv')\n",
                "\n",
                "# statistics_type can be either 'SUM' or 'PERCENTAGE'\n",
                "# denominator can be used to convert square meters to other areal units, such as square kilimeters\n",
                "geemap.zonal_statistics_by_group(\n",
                "    landcover,\n",
                "    ee_fc,\n",
                "    out_csv,\n",
                "    statistics_type='PERCENTAGE',\n",
                "    denominator=100,\n",
                "    decimal_places=2,\n",
                ")"
            ]
        },
        {
            "cell_type": "code",
            "execution_count": 4,
            "metadata": {},
            "outputs": [
                {
                    "data": {
                        "text/html": [
                            "<a download=\"landcover.csv\" href=\"data:text/csv;base64,Q2xhc3NfNTAsQ2xhc3NfNDAsQ2xhc3NfMTI2LENsYXNzXzExNixDbGFzc19zdW0sc3lzdGVtOmluZGV4LGlkCjAuMCwwLjk4NzU2OTYyMDIwOTExMTgsMC4wMTI0MzAzNzk3OTA4ODgzNDEsMC4wLDk3Njk2LjEyOTk5OTk5OTk5LDAsMAowLjAsMS4wLDAuMCwwLjAsMjguMzMsMSwxCjAuMCwxLjAsMC4wLDAuMCwyOC4zMywyLDIKMC4wLDEuMCwwLjAsMC4wLDU2LjY1LDMsMwowLjAsMS4wLDAuMCwwLjAsMjguMzMsNCw0CjAuMCwwLjAsMC4wLDAuMCwwLjAsNSw1CjAuMCwxLjAsMC4wLDAuMCwyOC4zMyw2LDYKMC4wLDEuMCwwLjAsMC4wLDI4LjMzLDcsNwowLjAsMS4wLDAuMCwwLjAsNTYuNjYsOCw4CjEuMCwwLjAsMC4wLDAuMCwyOC4zMyw5LDkKMS4wLDAuMCwwLjAsMC4wLDI4LjMzLDEwLDEwCjEuMCwwLjAsMC4wLDAuMCwyOC4zMywxMSwxMQoxLjAsMC4wLDAuMCwwLjAsMjguMzMsMTIsMTIKMS4wLDAuMCwwLjAsMC4wLDU2LjY3LDEzLDEzCjEuMCwwLjAsMC4wLDAuMCwyOC4zMywxNCwxNAowLjAsMC4wLDAuMCwwLjAsMC4wLDE1LDE1CjEuMCwwLjAsMC4wLDAuMCw1Ni42NiwxNiwxNgowLjAsMC4wLDAuMCwwLjAsMC4wLDE3LDE3CjEuMCwwLjAsMC4wLDAuMCw4NS4wMiwxOCwxOAowLjAsMC4wLDAuMCwwLjAsMC4wLDE5LDE5CjAuMCwwLjAsMC4wLDAuMCwwLjAsMjAsMjAKMC4wLDEuMCwwLjAsMC4wLDI4LjMyLDIxLDIxCjAuMCwwLjAsMC4wLDAuMCwwLjAsMjIsMjIKMC4wLDEuMCwwLjAsMC4wLDU2LjY1LDIzLDIzCjAuMCwwLjAsMC4wLDAuMCwwLjAsMjQsMjQKMS4wLDAuMCwwLjAsMC4wLDI4LjM0LDI1LDI1CjEuMCwwLjAsMC4wLDAuMCwyOC4zNCwyNiwyNgoxLjAsMC4wLDAuMCwwLjAsODUuMDIsMjcsMjcKMS4wLDAuMCwwLjAsMC4wLDI4LjMzLDI4LDI4CjAuMCwwLjAsMC4wLDAuMCwwLjAsMjksMjkKMC4wLDAuMCwwLjAsMC4wLDAuMCwzMCwzMAowLjAsMC4wLDAuMCwwLjAsMC4wLDMxLDMxCjAuMCwwLjAsMC4wLDAuMCwwLjAsMzIsMzIKMC4wMDE0MzQyMDQ1Mzc5MTgzMzI4LDAuMDg3NTI3OTg5MjYzNDYyODIsMC4zOTAyNDc0MDkxNDIxNTUzMywwLjQwMzE0NzY1NjI0MjQ4NTMzLDE5NzUzLjExLDMzLDMzCg==\" style=\"color:#0000FF;\" target=\"_blank\">Click here to download:  landcover.csv</a>"
                        ],
                        "text/plain": [
                            "<IPython.core.display.HTML object>"
                        ]
                    },
                    "execution_count": 4,
                    "metadata": {},
                    "output_type": "execute_result"
                }
            ],
            "source": [
                "geemap.create_download_link(out_csv)"
            ]
        }
    ],
    "metadata": {
        "kernelspec": {
            "display_name": "Python 3",
            "language": "python",
            "name": "python3"
        },
        "language_info": {
            "codemirror_mode": {
                "name": "ipython",
                "version": 3
            },
            "file_extension": ".py",
            "mimetype": "text/x-python",
            "name": "python",
            "nbconvert_exporter": "python",
            "pygments_lexer": "ipython3",
            "version": "3.10.2"
        }
    },
    "nbformat": 4,
    "nbformat_minor": 5
}
