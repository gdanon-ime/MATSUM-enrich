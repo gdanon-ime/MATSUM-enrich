{
 "cells": [
  {
   "cell_type": "code",
   "execution_count": 3,
   "metadata": {},
   "outputs": [],
   "source": [
    "import ee\n",
    "import geemap\n",
    "import geopandas as gpd\n",
    "import pandas as pd\n",
    "import os\n",
    "\n",
    "# Run as service account\n",
    "service_account = 'ee-account@airy-galaxy-398310.iam.gserviceaccount.com'\n",
    "credentials = ee.ServiceAccountCredentials(service_account, '../.private-key.json')\n",
    "\n",
    "ee.Initialize(credentials)\n",
    "\n",
    "Map = geemap.Map(center=[43.7196, 10.4250], zoom=5)\n",
    "# Map"
   ]
  },
  {
   "cell_type": "code",
   "execution_count": 4,
   "metadata": {},
   "outputs": [],
   "source": [
    "# Reference: https://developers.google.com/earth-engine/datasets/catalog/ESA_WorldCover_v100\n",
    "dataset = ee.ImageCollection('ESA/WorldCover/v100')\\\n",
    "    .select('Map')"
   ]
  },
  {
   "cell_type": "code",
   "execution_count": 5,
   "metadata": {},
   "outputs": [
    {
     "data": {
      "application/vnd.jupyter.widget-view+json": {
       "model_id": "d8e115ae44b3446e91e360c139be5a09",
       "version_major": 2,
       "version_minor": 0
      },
      "text/plain": [
       "Map(center=[43.710418, 10.396636], controls=(WidgetControl(options=['position', 'transparent_bg'], widget=HBox…"
      ]
     },
     "execution_count": 5,
     "metadata": {},
     "output_type": "execute_result"
    }
   ],
   "source": [
    "Map = geemap.Map(center=[43.710418, 10.396636], zoom=7)\n",
    "Map.addLayer(dataset, {}, 'Land Use')\n",
    "Map"
   ]
  },
  {
   "cell_type": "code",
   "execution_count": 6,
   "metadata": {},
   "outputs": [
    {
     "name": "stdout",
     "output_type": "stream",
     "text": [
      "{'type': 'ImageCollection', 'bands': [], 'id': 'ESA/WorldCover/v100', 'version': 1685065671563344, 'properties': {'date_range': [1577836800000, 1609459200000], 'period': 0, 'type_name': 'ImageCollection', 'max_mirrored_version': 1634633454597615, 'keywords': ['esa', 'landcover', 'landuse', 'sentinel1-derived', 'sentinel2-derived'], 'description': '<p>The European Space Agency (ESA) WorldCover 10 m 2020 product provides a\\nglobal land cover map for 2020 at 10 m resolution based on Sentinel-1 and\\nSentinel-2 data. The WorldCover product comes with 11 land cover classes and\\nhas been generated in the framework of the ESA WorldCover project, part of the\\n5th Earth Observation Envelope Programme (EOEP-5) of the European Space Agency.</p><p>See also:</p><ul><li><a href=\"https://esa-worldcover.org\">ESA WorldCover website</a></li><li><a href=\"https://esa-worldcover.org/en/data-access\">User Manual and Validation Report</a></li></ul><p><b>Provider: <a href=\"https://esa-worldcover.org/en\">ESA/VITO/Brockmann Consult/CS/GAMMA Remote Sensing/IIASA/WUR</a></b><br><p><b>Resolution</b><br>10 meters\\n</p><p><b>Bands</b><table class=\"eecat\"><tr><th scope=\"col\">Name</th><th scope=\"col\">Description</th></tr><tr><td>Map</td><td><p>Landcover class</p></td></tr></table><p><b>Terms of Use</b><br><p>CC-BY-4.0</p><p><b>Suggested citation(s)</b><ul><li><p>A publication is under preparation.</p></li></ul><style>\\n  table.eecat {\\n  border: 1px solid black;\\n  border-collapse: collapse;\\n  font-size: 13px;\\n  }\\n  table.eecat td, tr, th {\\n  text-align: left; vertical-align: top;\\n  border: 1px solid gray; padding: 3px;\\n  }\\n  td.nobreak { white-space: nowrap; }\\n</style>', 'provider_url': 'https://esa-worldcover.org/en', 'title': 'ESA WorldCover 10m v100', 'sample': 'https://mw1.google.com/ges/dd/images/ESA_WorldCover_v100_sample.png', 'tags': ['esa', 'landcover', 'landuse', 'sentinel1-derived', 'sentinel2-derived'], 'provider': 'ESA/VITO/Brockmann Consult/CS/GAMMA Remote Sensing/IIASA/WUR', 'visualization_0_name': 'Landcover', 'visualization_0_bands': 'Map'}, 'features': [{'type': 'Image', 'bands': [{'id': 'Map', 'data_type': {'type': 'PixelType', 'precision': 'int', 'min': 0, 'max': 255}, 'dimensions': [4320000, 1728000], 'crs': 'EPSG:4326', 'crs_transform': [8.333333333333333e-05, 0, -180, 0, -8.333333333333333e-05, 84]}], 'version': 1685065671563344, 'id': 'ESA/WorldCover/v100/2020', 'properties': {'system:time_start': 1577836800000, 'Map_class_names': ['Tree cover', 'Shrubland', 'Grassland', 'Cropland', 'Built-up', 'Bare / sparse vegetation', 'Snow and ice', 'Permanent water bodies', 'Herbaceous wetland', 'Mangroves', 'Moss and lichen'], 'system:footprint': {'type': 'LinearRing', 'coordinates': [[-180, -90], [180, -90], [180, 90], [-180, 90], [-180, -90]]}, 'system:time_end': 1609459200000, 'Map_class_palette': ['006400', 'ffbb22', 'ffff4c', 'f096ff', 'fa0000', 'b4b4b4', 'f0f0f0', '0064c8', '0096a0', '00cf75', 'fae6a0'], 'Map_class_values': [10, 20, 30, 40, 50, 60, 70, 80, 90, 95, 100], 'system:asset_size': 109355097577, 'system:index': '2020'}}]}\n"
     ]
    }
   ],
   "source": [
    "print(dataset.getInfo())"
   ]
  },
  {
   "cell_type": "code",
   "execution_count": 9,
   "metadata": {},
   "outputs": [
    {
     "name": "stdout",
     "output_type": "stream",
     "text": [
      "Computing ... \n",
      "Generating URL ...\n",
      "Downloading data from https://earthengine.googleapis.com/v1/projects/earthengine-legacy/tables/5f404a7c53b9df6e298ba569c11f3835-427728cf30db2baa6558e67eb76382ac:getFeatures\n",
      "Please wait ...\n",
      "Data downloaded to /Users/gustavodanon/Downloads/landcover.csv\n"
     ]
    }
   ],
   "source": [
    "gpdfile = './ROIs.geojson'\n",
    "gdf = gpd.read_file(gpdfile)\n",
    "ee_fc = geemap.gdf_to_ee(gdf)\n",
    "\n",
    "out_dir = os.path.join(os.path.expanduser('~'), 'Downloads')\n",
    "out_csv = os.path.join(out_dir, 'ESA_GLOBAL2020.csv')\n",
    "\n",
    "# denominator can be used to convert square meters to other areal units, such as square kilimeters\n",
    "geemap.zonal_statistics_by_group(\n",
    "    dataset,\n",
    "    ee_fc,\n",
    "    out_csv,\n",
    "    statistics_type='PERCENTAGE',\n",
    "    decimal_places=2,\n",
    "    timeout=300\n",
    ")"
   ]
  },
  {
   "cell_type": "code",
   "execution_count": 8,
   "metadata": {},
   "outputs": [
    {
     "ename": "NameError",
     "evalue": "name 'out_csv' is not defined",
     "output_type": "error",
     "traceback": [
      "\u001b[0;31m---------------------------------------------------------------------------\u001b[0m",
      "\u001b[0;31mNameError\u001b[0m                                 Traceback (most recent call last)",
      "\u001b[1;32m/Users/gustavodanon/Desktop/Projetos - Programação/Intercambio/Code/v2/land_cover/esa_global.ipynb Célula 6\u001b[0m line \u001b[0;36m<module>\u001b[0;34m\u001b[0m\n\u001b[0;32m----> <a href='vscode-notebook-cell:/Users/gustavodanon/Desktop/Projetos%20-%20Programa%C3%A7%C3%A3o/Intercambio/Code/v2/land_cover/esa_global.ipynb#W4sZmlsZQ%3D%3D?line=0'>1</a>\u001b[0m geemap\u001b[39m.\u001b[39mcreate_download_link(out_csv)\n",
      "\u001b[0;31mNameError\u001b[0m: name 'out_csv' is not defined"
     ]
    }
   ],
   "source": [
    "geemap.create_download_link(out_csv)"
   ]
  }
 ],
 "metadata": {
  "kernelspec": {
   "display_name": "Python 3",
   "language": "python",
   "name": "python3"
  },
  "language_info": {
   "codemirror_mode": {
    "name": "ipython",
    "version": 3
   },
   "file_extension": ".py",
   "mimetype": "text/x-python",
   "name": "python",
   "nbconvert_exporter": "python",
   "pygments_lexer": "ipython3",
   "version": "3.10.2"
  }
 },
 "nbformat": 4,
 "nbformat_minor": 2
}
