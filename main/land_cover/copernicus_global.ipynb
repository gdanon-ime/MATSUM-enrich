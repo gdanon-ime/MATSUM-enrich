{
 "cells": [
  {
   "cell_type": "code",
   "execution_count": 1,
   "metadata": {},
   "outputs": [],
   "source": [
    "import ee\n",
    "import geemap\n",
    "import geopandas as gpd\n",
    "import pandas as pd\n",
    "import os\n",
    "\n",
    "# Run as service account\n",
    "service_account = 'ee-account@airy-galaxy-398310.iam.gserviceaccount.com'\n",
    "credentials = ee.ServiceAccountCredentials(service_account, '../.private-key.json')\n",
    "\n",
    "ee.Initialize(credentials)\n",
    "\n",
    "Map = geemap.Map(center=[43.7196, 10.4250], zoom=5)\n",
    "# Map"
   ]
  },
  {
   "cell_type": "code",
   "execution_count": 2,
   "metadata": {},
   "outputs": [],
   "source": [
    "# Reference: https://developers.google.com/earth-engine/datasets/catalog/COPERNICUS_Landcover_100m_Proba-V-C3_Global\n",
    "dataset = ee.Image('COPERNICUS/Landcover/100m/Proba-V-C3/Global/2019').select('discrete_classification')"
   ]
  },
  {
   "cell_type": "code",
   "execution_count": 3,
   "metadata": {},
   "outputs": [
    {
     "data": {
      "application/vnd.jupyter.widget-view+json": {
       "model_id": "f417f6d01c0144868834e050acaa95f9",
       "version_major": 2,
       "version_minor": 0
      },
      "text/plain": [
       "Map(center=[43.710418, 10.396636], controls=(WidgetControl(options=['position', 'transparent_bg'], widget=HBox…"
      ]
     },
     "execution_count": 3,
     "metadata": {},
     "output_type": "execute_result"
    }
   ],
   "source": [
    "Map = geemap.Map(center=[43.710418, 10.396636], zoom=7)\n",
    "Map.addLayer(dataset, {}, 'Land Use')\n",
    "Map"
   ]
  },
  {
   "cell_type": "code",
   "execution_count": 6,
   "metadata": {},
   "outputs": [
    {
     "name": "stdout",
     "output_type": "stream",
     "text": [
      "{'type': 'Image', 'bands': [{'id': 'discrete_classification', 'data_type': {'type': 'PixelType', 'precision': 'int', 'min': 0, 'max': 255}, 'dimensions': [400750, 240450], 'crs': 'EPSG:3857', 'crs_transform': [100, 0, -20037550, 0, -100, 15538800]}], 'id': 'COPERNICUS/Landcover/100m/Proba-V-C3/Global/2019', 'version': 1685078284447716, 'properties': {'discrete_classification_class_names': ['Unknown. No or not enough satellite data available.', 'Shrubs. Woody perennial plants with persistent and woody stems\\nand without any defined main stem being less than 5 m tall. The\\nshrub foliage can be either evergreen or deciduous.\\n', 'Herbaceous vegetation. Plants without persistent stem or shoots above ground\\nand lacking definite firm structure. Tree and shrub cover is less\\nthan 10 %.\\n', 'Cultivated and managed vegetation / agriculture. Lands covered with temporary crops followed by harvest\\nand a bare soil period (e.g., single and multiple cropping systems).\\nNote that perennial woody crops will be classified as the appropriate\\nforest or shrub land cover type.\\n', 'Urban / built up. Land covered by buildings and other man-made structures.', 'Bare / sparse vegetation. Lands with exposed soil, sand, or rocks and never has\\nmore than 10 % vegetated cover during any time of the year.\\n', 'Snow and ice. Lands under snow or ice cover throughout the year.', 'Permanent water bodies. Lakes, reservoirs, and rivers. Can be either fresh or salt-water bodies.', 'Herbaceous wetland. Lands with a permanent mixture of water and herbaceous\\nor woody vegetation. The vegetation can be present in either salt,\\nbrackish, or fresh water.\\n', 'Moss and lichen.', 'Closed forest, evergreen needle leaf. Tree canopy >70 %, almost all needle leaf trees remain\\ngreen all year. Canopy is never without green foliage.\\n', 'Closed forest, evergreen broad leaf. Tree canopy >70 %, almost all broadleaf trees remain\\ngreen year round. Canopy is never without green foliage.\\n', 'Closed forest, deciduous needle leaf. Tree canopy >70 %, consists of seasonal needle leaf\\ntree communities with an annual cycle of leaf-on and leaf-off\\nperiods.\\n', 'Closed forest, deciduous broad leaf. Tree canopy >70 %, consists of seasonal broadleaf\\ntree communities with an annual cycle of leaf-on and leaf-off periods.\\n', 'Closed forest, mixed.', 'Closed forest, not matching any of the other definitions.', 'Open forest, evergreen needle leaf. Top layer- trees 15-70 % and second layer- mixed of shrubs\\nand grassland, almost all needle leaf trees remain green all year.\\nCanopy is never without green foliage.\\n', 'Open forest, evergreen broad leaf. Top layer- trees 15-70 % and second layer- mixed of shrubs\\nand grassland, almost all broadleaf trees remain green year round.\\nCanopy is never without green foliage.\\n', 'Open forest, deciduous needle leaf. Top layer- trees 15-70 % and second layer- mixed of shrubs\\nand grassland, consists of seasonal needle leaf tree communities with\\nan annual cycle of leaf-on and leaf-off periods.\\n', 'Open forest, deciduous broad leaf. Top layer- trees 15-70 % and second layer- mixed of shrubs\\nand grassland, consists of seasonal broadleaf tree communities with\\nan annual cycle of leaf-on and leaf-off periods.\\n', 'Open forest, mixed.', 'Open forest, not matching any of the other definitions.', 'Oceans, seas. Can be either fresh or salt-water bodies.'], 'forest_type_class_names': ['Unknown', 'Evergreen needle leaf', 'Evergreen broad leaf', 'Deciduous needle leaf', 'Deciduous broad leaf', 'Mix of forest types'], 'forest_type_class_palette': ['282828', '666000', '009900', '70663e', 'a0dc00', '929900'], 'system:time_end': 1577836800000, 'discrete_classification_class_values': [0, 20, 30, 40, 50, 60, 70, 80, 90, 100, 111, 112, 113, 114, 115, 116, 121, 122, 123, 124, 125, 126, 200], 'system:time_start': 1546300800000, 'discrete_classification_class_palette': ['282828', 'ffbb22', 'ffff4c', 'f096ff', 'fa0000', 'b4b4b4', 'f0f0f0', '0032c8', '0096a0', 'fae6a0', '58481f', '009900', '70663e', '00cc00', '4e751f', '007800', '666000', '8db400', '8d7400', 'a0dc00', '929900', '648c00', '000080'], 'system:footprint': {'type': 'LinearRing', 'coordinates': [[-180, -90], [180, -90], [180, 90], [-180, 90], [-180, -90]]}, 'forest_type_class_values': [0, 1, 2, 3, 4, 5], 'system:asset_size': 84728363000, 'system:index': '2019'}}\n"
     ]
    }
   ],
   "source": [
    "print(dataset.getInfo())"
   ]
  },
  {
   "cell_type": "code",
   "execution_count": 9,
   "metadata": {},
   "outputs": [
    {
     "name": "stdout",
     "output_type": "stream",
     "text": [
      "Computing ... \n",
      "Generating URL ...\n",
      "Downloading data from https://earthengine.googleapis.com/v1/projects/earthengine-legacy/tables/852afbfa671423c25fedf477f25839ba-ac62d7847178cdc5488874e38be91631:getFeatures\n",
      "Please wait ...\n",
      "Data downloaded to /Users/gustavodanon/Downloads/landcover.csv\n"
     ]
    }
   ],
   "source": [
    "gpdfile = './ROIs.geojson'\n",
    "gdf = gpd.read_file(gpdfile)\n",
    "ee_fc = geemap.gdf_to_ee(gdf)\n",
    "\n",
    "out_dir = os.path.join(os.path.expanduser('~'), 'Downloads')\n",
    "out_csv = os.path.join(out_dir, 'COPERNICUS_GLOBAL2019.csv')\n",
    "\n",
    "# denominator can be used to convert square meters to other areal units, such as square kilimeters\n",
    "geemap.zonal_statistics_by_group(\n",
    "    dataset,\n",
    "    ee_fc,\n",
    "    out_csv,\n",
    "    statistics_type='PERCENTAGE',\n",
    "    decimal_places=2,\n",
    "    scale=30\n",
    ")"
   ]
  },
  {
   "cell_type": "code",
   "execution_count": 5,
   "metadata": {},
   "outputs": [
    {
     "data": {
      "text/html": [
       "<a download=\"landcover.csv\" href=\"data:text/csv;base64,Q2xhc3NfNTAsQ2xhc3NfNDAsQ2xhc3NfMTI2LENsYXNzXzExNixDbGFzc19zdW0sc3lzdGVtOmluZGV4LGlkCjAuMCwwLjk4NzU2OTYwNzU5NTMxNjEsMC4wMTI0MzAzOTI0MDQ2ODM5OTcsMC4wLDk3Njk2MTIuNzM5OTk5OTk4LDAsMAowLjAsMS4wLDAuMCwwLjAsMjgzMi42NiwxLDEKMC4wLDEuMCwwLjAsMC4wLDI4MzIuNjYsMiwyCjAuMCwxLjAsMC4wLDAuMCw1NjY1LjMyLDMsMwowLjAsMS4wLDAuMCwwLjAsMjgzMy4wOCw0LDQKMC4wLDAuMCwwLjAsMC4wLDAuMCw1LDUKMC4wLDEuMCwwLjAsMC4wLDI4MzMuMDgsNiw2CjAuMCwxLjAsMC4wLDAuMCwyODMzLjA4LDcsNwowLjAsMS4wLDAuMCwwLjAsNTY2Ni4xNiw4LDgKMS4wLDAuMCwwLjAsMC4wLDI4MzMuMDgsOSw5CjEuMCwwLjAsMC4wLDAuMCwyODMzLjA4LDEwLDEwCjEuMCwwLjAsMC4wLDAuMCwyODMzLjA4LDExLDExCjEuMCwwLjAsMC4wLDAuMCwyODMzLjUsMTIsMTIKMS4wLDAuMCwwLjAsMC4wLDU2NjcuMCwxMywxMwoxLjAsMC4wLDAuMCwwLjAsMjgzMy41LDE0LDE0CjAuMCwwLjAsMC4wLDAuMCwwLjAsMTUsMTUKMS4wLDAuMCwwLjAsMC4wLDU2NjYuMTYsMTYsMTYKMC4wLDAuMCwwLjAsMC4wLDAuMCwxNywxNwoxLjAsMC4wLDAuMCwwLjAsODUwMS43NiwxOCwxOAowLjAsMC4wLDAuMCwwLjAsMC4wLDE5LDE5CjAuMCwwLjAsMC4wLDAuMCwwLjAsMjAsMjAKMC4wLDEuMCwwLjAsMC4wLDI4MzIuMjQsMjEsMjEKMC4wLDAuMCwwLjAsMC4wLDAuMCwyMiwyMgowLjAsMS4wLDAuMCwwLjAsNTY2NS4zMiwyMywyMwowLjAsMC4wLDAuMCwwLjAsMC4wLDI0LDI0CjEuMCwwLjAsMC4wLDAuMCwyODMzLjkyLDI1LDI1CjEuMCwwLjAsMC4wLDAuMCwyODM0LjM0LDI2LDI2CjEuMCwwLjAsMC4wLDAuMCw4NTAxLjc2LDI3LDI3CjEuMCwwLjAsMC4wLDAuMCwyODMzLjUsMjgsMjgKMC4wLDAuMCwwLjAsMC4wLDAuMCwyOSwyOQowLjAsMC4wLDAuMCwwLjAsMC4wLDMwLDMwCjAuMCwwLjAsMC4wLDAuMCwwLjAsMzEsMzEKMC4wLDAuMCwwLjAsMC4wLDAuMCwzMiwzMgowLjAwMTQzNDQ1NzIxOTYzODM3NCwwLjA4NzUyNzc0NDU0NjU5MzM0LDAuMzkwMjQ3Mzg0ODE2NDEzODYsMC40MDMxNDc1NDE4NzA2MjE2MywxOTc1MzExLjYwOTk5OTk5OTksMzMsMzMK\" style=\"color:#0000FF;\" target=\"_blank\">Click here to download:  landcover.csv</a>"
      ],
      "text/plain": [
       "<IPython.core.display.HTML object>"
      ]
     },
     "execution_count": 5,
     "metadata": {},
     "output_type": "execute_result"
    }
   ],
   "source": [
    "geemap.create_download_link(out_csv)"
   ]
  }
 ],
 "metadata": {
  "kernelspec": {
   "display_name": "Python 3",
   "language": "python",
   "name": "python3"
  },
  "language_info": {
   "codemirror_mode": {
    "name": "ipython",
    "version": 3
   },
   "file_extension": ".py",
   "mimetype": "text/x-python",
   "name": "python",
   "nbconvert_exporter": "python",
   "pygments_lexer": "ipython3",
   "version": "3.10.2"
  }
 },
 "nbformat": 4,
 "nbformat_minor": 2
}
