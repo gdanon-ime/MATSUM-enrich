{
 "cells": [
  {
   "cell_type": "code",
   "execution_count": 1,
   "metadata": {},
   "outputs": [],
   "source": [
    "import ee\n",
    "import geemap\n",
    "import geopandas as gpd\n",
    "import pandas as pd\n",
    "import os\n",
    "\n",
    "# Run as service account\n",
    "service_account = 'ee-account@airy-galaxy-398310.iam.gserviceaccount.com'\n",
    "credentials = ee.ServiceAccountCredentials(service_account, '../.private-key.json')\n",
    "\n",
    "ee.Initialize(credentials)\n",
    "\n",
    "Map = geemap.Map(center=[43.7196, 10.4250], zoom=5)\n",
    "# Map"
   ]
  },
  {
   "cell_type": "code",
   "execution_count": 2,
   "metadata": {},
   "outputs": [],
   "source": [
    "# Reference: https://developers.google.com/earth-engine/datasets/catalog/COPERNICUS_CORINE_V20_100m#description\n",
    "dataset = ee.Image('COPERNICUS/CORINE/V20/100m/2018').select('landcover')"
   ]
  },
  {
   "cell_type": "code",
   "execution_count": 3,
   "metadata": {},
   "outputs": [
    {
     "data": {
      "application/vnd.jupyter.widget-view+json": {
       "model_id": "2f16804a38c849129b40b45f0115fc96",
       "version_major": 2,
       "version_minor": 0
      },
      "text/plain": [
       "Map(center=[43.710418, 10.396636], controls=(WidgetControl(options=['position', 'transparent_bg'], widget=HBox…"
      ]
     },
     "execution_count": 3,
     "metadata": {},
     "output_type": "execute_result"
    }
   ],
   "source": [
    "Map = geemap.Map(center=[43.710418, 10.396636], zoom=7)\n",
    "Map.addLayer(dataset, {}, 'Land Use')\n",
    "Map"
   ]
  },
  {
   "cell_type": "code",
   "execution_count": 4,
   "metadata": {},
   "outputs": [
    {
     "name": "stdout",
     "output_type": "stream",
     "text": [
      "{'type': 'Image', 'bands': [{'id': 'landcover', 'data_type': {'type': 'PixelType', 'precision': 'int', 'min': -32768, 'max': 32767}, 'dimensions': [65000, 46000], 'crs': 'EPSG:3035', 'crs_transform': [100, 0, 900000, 0, -100, 5500000]}], 'version': 1578598451411424, 'id': 'COPERNICUS/CORINE/V20/100m/2018', 'properties': {'system:time_start': 1483228800000, 'landcover_class_names': ['Artificial surfaces; urban fabric; continuous urban fabric', 'Artificial surfaces; urban fabric; discontinuous urban fabric', 'Artificial surfaces; industrial, commercial, and transport units; industrial or commercial units', 'Artificial surfaces; industrial, commercial, and transport units; road and rail networks and associated land', 'Artificial surfaces; industrial, commercial, and transport units; port areas', 'Artificial surfaces; industrial, commercial, and transport units; airports', 'Artificial surfaces; mine, dump, and construction sites; mineral extraction sites', 'Artificial surfaces; mine, dump, and construction sites; dump sites', 'Artificial surfaces; mine, dump, and construction sites; construction sites', 'Artificial surfaces; artificial, non-agricultural vegetated areas; green urban areas', 'Artificial surfaces; artificial, non-agricultural vegetated areas; sport and leisure facilities', 'Agricultural areas; arable land; non-irrigated arable land', 'Agricultural areas; arable land; permanently irrigated land', 'Agricultural areas; arable land; rice fields', 'Agricultural areas; permanent crops; vineyards', 'Agricultural areas; permanent crops; fruit trees and berry plantations', 'Agricultural areas; permanent crops; olive groves', 'Agricultural areas; pastures; pastures', 'Agricultural areas; heterogeneous agricultural areas; annual crops associated with permanent crops', 'Agricultural areas; heterogeneous agricultural areas; complex cultivation patterns', 'Agricultural areas; heterogeneous agricultural areas; land principally occupied by agriculture, with significant areas of natural vegetation', 'Agricultural areas; heterogeneous agricultural areas; agro-forestry areas', 'Forest and semi natural areas; forests; broad-leaved forest', 'Forest and semi natural areas; forests; coniferous forest', 'Forest and semi natural areas; forests; mixed forest', 'Forest and semi natural areas; scrub and/or herbaceous vegetation associations; natural grasslands', 'Forest and semi natural areas; scrub and/or herbaceous vegetation associations; moors and heathland', 'Forest and semi natural areas; scrub and/or herbaceous vegetation associations; sclerophyllous vegetation', 'Forest and semi natural areas; scrub and/or herbaceous vegetation associations; transitional woodland-shrub', 'Forest and semi natural areas; open spaces with little or no vegetation; beaches, dunes, sands', 'Forest and semi natural areas; open spaces with little or no vegetation; bare rocks', 'Forest and semi natural areas; open spaces with little or no vegetation; sparsely vegetated areas', 'Forest and semi natural areas; open spaces with little or no vegetation; burnt areas', 'Forest and semi natural areas; open spaces with little or no vegetation; glaciers and perpetual snow', 'Wetlands; inland wetlands; inland marshes', 'Wetlands; inland wetlands; peat bogs', 'Wetlands; maritime wetlands; salt marshes', 'Wetlands; maritime wetlands; salines', 'Wetlands; maritime wetlands; intertidal flats', 'Water bodies; inland waters; water courses', 'Water bodies; inland waters; water bodies', 'Water bodies; marine waters; coastal lagoons', 'Water bodies; marine waters; estuaries', 'Water bodies; marine waters; sea and ocean'], 'system:footprint': {'type': 'LinearRing', 'coordinates': [[-9.291577489959689, 28.948048779529504], [-1.1348922141878568, 30.384108013567815], [15.560478296444398, 30.91440362048397], [31.921350318315167, 28.31102049320865], [40.6630138383624, 25.544103078211442], [49.12656087431311, 42.164916294594796], [57.191187032904466, 50.53224470253008], [72.90742153049493, 58.95265963820297], [60.87009305611089, 64.99446111020227], [25.64787182886855, 72.09663891778112], [-19.80293148147738, 70.46758464403167], [-56.50634208232597, 56.484535695188306], [-41.040859788996734, 48.58346499968482], [-32.75909186932784, 40.537952981711484], [-27.059315550168147, 31.653935386299985], [-23.826273026581656, 24.283554582406], [-9.291577489959689, 28.948048779529504]]}, 'system:time_end': 1546300800000, 'landcover_class_values': [111, 112, 121, 122, 123, 124, 131, 132, 133, 141, 142, 211, 212, 213, 221, 222, 223, 231, 241, 242, 243, 244, 311, 312, 313, 321, 322, 323, 324, 331, 332, 333, 334, 335, 411, 412, 421, 422, 423, 511, 512, 521, 522, 523], 'system:asset_size': 134244151, 'landcover_class_palette': ['E6004D', 'FF0000', 'CC4DF2', 'CC0000', 'E6CCCC', 'E6CCE6', 'A600CC', 'A64DCC', 'FF4DFF', 'FFA6FF', 'FFE6FF', 'FFFFA8', 'FFFF00', 'E6E600', 'E68000', 'F2A64D', 'E6A600', 'E6E64D', 'FFE6A6', 'FFE64D', 'E6CC4D', 'F2CCA6', '80FF00', '00A600', '4DFF00', 'CCF24D', 'A6FF80', 'A6E64D', 'A6F200', 'E6E6E6', 'CCCCCC', 'CCFFCC', '000000', 'A6E6CC', 'A6A6FF', '4D4DFF', 'CCCCFF', 'E6E6FF', 'A6A6E6', '00CCF2', '80F2E6', '00FFA6', 'A6FFE6', 'E6F2FF'], 'system:index': '2018'}}\n"
     ]
    }
   ],
   "source": [
    "print(dataset.getInfo())"
   ]
  },
  {
   "cell_type": "code",
   "execution_count": 5,
   "metadata": {},
   "outputs": [
    {
     "name": "stdout",
     "output_type": "stream",
     "text": [
      "Computing ... \n",
      "Generating URL ...\n",
      "Downloading data from https://earthengine.googleapis.com/v1/projects/earthengine-legacy/tables/26781a30af2355b020a6335e0e910280-3cf6b6e0f04ae99dcb0bf790f386d670:getFeatures\n",
      "Please wait ...\n",
      "Data downloaded to /Users/gustavodanon/Downloads/landcover.csv\n"
     ]
    }
   ],
   "source": [
    "gpdfile = '../rois_raw.geojson'\n",
    "gdf = gpd.read_file(gpdfile)\n",
    "ee_fc = geemap.gdf_to_ee(gdf)\n",
    "\n",
    "out_dir = os.path.join(os.path.expanduser('~'), 'Downloads')\n",
    "out_csv = os.path.join(out_dir, 'landcover.csv')\n",
    "\n",
    "# denominator can be used to convert square meters to other areal units, such as square kilimeters\n",
    "geemap.zonal_statistics_by_group(\n",
    "    dataset,\n",
    "    ee_fc,\n",
    "    out_csv,\n",
    "    statistics_type='PERCENTAGE',\n",
    "    decimal_places=2,\n",
    "    scale=30\n",
    ")"
   ]
  },
  {
   "cell_type": "code",
   "execution_count": 6,
   "metadata": {},
   "outputs": [
    {
     "data": {
      "text/html": [
       "<a download=\"landcover.csv\" href=\"data:text/csv;base64,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\" style=\"color:#0000FF;\" target=\"_blank\">Click here to download:  landcover.csv</a>"
      ],
      "text/plain": [
       "<IPython.core.display.HTML object>"
      ]
     },
     "execution_count": 6,
     "metadata": {},
     "output_type": "execute_result"
    }
   ],
   "source": [
    "geemap.create_download_link(out_csv)"
   ]
  }
 ],
 "metadata": {
  "kernelspec": {
   "display_name": "Python 3",
   "language": "python",
   "name": "python3"
  },
  "language_info": {
   "codemirror_mode": {
    "name": "ipython",
    "version": 3
   },
   "file_extension": ".py",
   "mimetype": "text/x-python",
   "name": "python",
   "nbconvert_exporter": "python",
   "pygments_lexer": "ipython3",
   "version": "3.10.2"
  }
 },
 "nbformat": 4,
 "nbformat_minor": 2
}
