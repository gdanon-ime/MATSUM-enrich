{
 "cells": [
  {
   "cell_type": "markdown",
   "metadata": {},
   "source": [
    "GEEMAP BASE CODE\n",
    "\n",
    "https://github.com/gee-community/geemap/blob/master/docs/notebooks/67_training_samples.ipynb"
   ]
  },
  {
   "cell_type": "code",
   "execution_count": null,
   "metadata": {},
   "outputs": [],
   "source": [
    "import ee\n",
    "import geemap\n",
    "import geopandas as gpd\n",
    "import json\n",
    "import os\n",
    "\n",
    "# Run as service account\n",
    "service_account = '...com'\n",
    "credentials = ee.ServiceAccountCredentials(service_account, '.private-key.json')\n",
    "\n",
    "ee.Initialize(credentials)\n",
    "\n",
    "Map = geemap.Map(center=[43.7196, 10.4250], zoom=5)\n",
    "Map"
   ]
  },
  {
   "cell_type": "code",
   "execution_count": null,
   "metadata": {},
   "outputs": [],
   "source": [
    "# Draw something above and extract like this\n",
    "ee_fc = ee.FeatureCollection(Map.user_rois.getInfo())\n",
    "print(ee_fc.getInfo())\n",
    "geemap.ee_to_geojson(ee_fc, 'out.geojson')"
   ]
  },
  {
   "cell_type": "code",
   "execution_count": null,
   "metadata": {},
   "outputs": [],
   "source": [
    "image = ee.Image('LANDSAT/LE7_TOA_5YEAR/1999_2003').select(\n",
    "    ['B1', 'B2', 'B3', 'B4', 'B5', 'B7']\n",
    ")\n",
    "    \n",
    "\n",
    "ee_f = ee.FeatureCollection({'type': 'FeatureCollection',\n",
    " 'columns': {'system:index': 'String'},\n",
    " 'features': [{'type': 'Feature',\n",
    "   'geometry': {'type': 'Polygon',\n",
    "    'coordinates': [[[10.26947, 43.522663],\n",
    "      [11.282959, 43.522663],\n",
    "      [11.282959, 43.937462],\n",
    "      [10.26947, 43.937462],\n",
    "      [10.26947, 43.522663]]]},\n",
    "   'id': '0',\n",
    "   'properties': {}}]})"
   ]
  },
  {
   "cell_type": "code",
   "execution_count": null,
   "metadata": {},
   "outputs": [],
   "source": [
    "# Some Sampling \n",
    "ee_fc = geemap.random_sampling(image, ee_f, scale=2000)\n",
    "print(ee_fc.getInfo())"
   ]
  }
 ],
 "metadata": {
  "kernelspec": {
   "display_name": "Python 3",
   "language": "python",
   "name": "python3"
  },
  "language_info": {
   "codemirror_mode": {
    "name": "ipython",
    "version": 3
   },
   "file_extension": ".py",
   "mimetype": "text/x-python",
   "name": "python",
   "nbconvert_exporter": "python",
   "pygments_lexer": "ipython3",
   "version": "3.10.2"
  }
 },
 "nbformat": 4,
 "nbformat_minor": 2
}
