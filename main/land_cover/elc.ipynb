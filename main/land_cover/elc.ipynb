{
 "cells": [
  {
   "cell_type": "code",
   "execution_count": 1,
   "metadata": {},
   "outputs": [],
   "source": [
    "import ee\n",
    "import geemap\n",
    "import geopandas as gpd\n",
    "import pandas as pd\n",
    "import os\n",
    "\n",
    "# Run as service account\n",
    "service_account = 'ee-account@airy-galaxy-398310.iam.gserviceaccount.com'\n",
    "credentials = ee.ServiceAccountCredentials(service_account, '../.private-key.json')\n",
    "\n",
    "ee.Initialize(credentials)\n",
    "\n",
    "Map = geemap.Map(center=[43.7196, 10.4250], zoom=5)\n",
    "# Map"
   ]
  },
  {
   "cell_type": "code",
   "execution_count": 2,
   "metadata": {},
   "outputs": [],
   "source": [
    "# Reference: https://gee-community-catalog.org/projects/elc/?h=elc10#earth-engine-snippet\n",
    "dataset = ee.ImageCollection('projects/sat-io/open-datasets/NINA/ELC10')\\\n",
    "    .mosaic()\\\n",
    "    .select('b1')"
   ]
  },
  {
   "cell_type": "code",
   "execution_count": 3,
   "metadata": {},
   "outputs": [
    {
     "data": {
      "application/vnd.jupyter.widget-view+json": {
       "model_id": "bd4c88ed9583403ab3d00850a0891e65",
       "version_major": 2,
       "version_minor": 0
      },
      "text/plain": [
       "Map(center=[43.710418, 10.396636], controls=(WidgetControl(options=['position', 'transparent_bg'], widget=HBox…"
      ]
     },
     "execution_count": 3,
     "metadata": {},
     "output_type": "execute_result"
    }
   ],
   "source": [
    "Map = geemap.Map(center=[43.710418, 10.396636], zoom=7)\n",
    "Map.addLayer(dataset, {}, 'Land Use')\n",
    "Map"
   ]
  },
  {
   "cell_type": "code",
   "execution_count": 4,
   "metadata": {},
   "outputs": [
    {
     "name": "stdout",
     "output_type": "stream",
     "text": [
      "Computing ... \n",
      "Generating URL ...\n",
      "Downloading data from https://earthengine.googleapis.com/v1/projects/earthengine-legacy/tables/fd6b46a0e9a7cb635edd8190ee83f4e9-217ab320ff5c14b1845c8aa22d26746b:getFeatures\n",
      "Please wait ...\n",
      "Data downloaded to /Users/gustavodanon/Downloads/landcover.csv\n"
     ]
    }
   ],
   "source": [
    "gpdfile = './ROIs.geojson'\n",
    "gdf = gpd.read_file(gpdfile)\n",
    "ee_fc = geemap.gdf_to_ee(gdf)\n",
    "\n",
    "out_dir = os.path.join(os.path.expanduser('~'), 'Downloads')\n",
    "out_csv = os.path.join(out_dir, 'ELC10.csv')\n",
    "\n",
    "# denominator can be used to convert square meters to other areal units, such as square kilimeters\n",
    "geemap.zonal_statistics_by_group(\n",
    "    dataset,\n",
    "    ee_fc,\n",
    "    out_csv,\n",
    "    statistics_type='PERCENTAGE',\n",
    "    decimal_places=2,\n",
    "    scale=30\n",
    ")"
   ]
  },
  {
   "cell_type": "code",
   "execution_count": 5,
   "metadata": {},
   "outputs": [
    {
     "data": {
      "text/html": [
       "<a download=\"landcover.csv\" href=\"data:text/csv;base64,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\" style=\"color:#0000FF;\" target=\"_blank\">Click here to download:  landcover.csv</a>"
      ],
      "text/plain": [
       "<IPython.core.display.HTML object>"
      ]
     },
     "execution_count": 5,
     "metadata": {},
     "output_type": "execute_result"
    }
   ],
   "source": [
    "geemap.create_download_link(out_csv)"
   ]
  }
 ],
 "metadata": {
  "kernelspec": {
   "display_name": "Python 3",
   "language": "python",
   "name": "python3"
  },
  "language_info": {
   "codemirror_mode": {
    "name": "ipython",
    "version": 3
   },
   "file_extension": ".py",
   "mimetype": "text/x-python",
   "name": "python",
   "nbconvert_exporter": "python",
   "pygments_lexer": "ipython3",
   "version": "3.10.2"
  }
 },
 "nbformat": 4,
 "nbformat_minor": 2
}
