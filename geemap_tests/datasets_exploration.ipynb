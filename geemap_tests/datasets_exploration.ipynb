{
    "cells": [
        {
            "cell_type": "markdown",
            "id": "e88e1ee5",
            "metadata": {},
            "source": [
                "GEEMAP BASE CODE\n",
                "\n",
                "https://github.com/gee-community/geemap/blob/master/examples/notebooks/124_more_datasets.ipynb\n",
                "\n",
                "COMMUNITY DATASETS ON:\n",
                "\n",
                "https://github.com/samapriya/awesome-gee-community-datasets/blob/master/community_datasets.json"
            ]
        },
        {
            "cell_type": "code",
            "execution_count": 1,
            "metadata": {},
            "outputs": [],
            "source": [
                "import ee\n",
                "import geemap\n",
                "import geopandas as gpd\n",
                "import json\n",
                "import os\n",
                "\n",
                "# Run as service account\n",
                "service_account = 'ee-account@airy-galaxy-398310.iam.gserviceaccount.com'\n",
                "credentials = ee.ServiceAccountCredentials(service_account, '.private-key.json')\n",
                "\n",
                "ee.Initialize(credentials)\n",
                "\n",
                "Map = geemap.Map(center=[43.7196, 10.4250], zoom=5)\n",
                "# Map\n",
                "\n",
                "# I dont really understand why they separated these two\n",
                "from geemap import common as cm\n",
                "from geemap import datasets as ds"
            ]
        },
        {
            "cell_type": "code",
            "execution_count": 20,
            "id": "f18f9716",
            "metadata": {},
            "outputs": [
                {
                    "name": "stdout",
                    "output_type": "stream",
                    "text": [
                        "3\n",
                        "3\n",
                        "2501\n"
                    ]
                }
            ],
            "source": [
                "print(len(ds.search_ee_data('LULC', source='community')))\n",
                "print(len(ds.search_ee_data('Landcover', source='ee')))\n",
                "print(len(ds.search_ee_data('', source='all')))\n",
                "# cm.search_ee_data('Landcover', source='ee')"
            ]
        },
        {
            "cell_type": "code",
            "execution_count": 23,
            "id": "50d843a8",
            "metadata": {},
            "outputs": [
                {
                    "name": "stdout",
                    "output_type": "stream",
                    "text": [
                        "78\n",
                        "7\n",
                        "{'asset_url': 'https://developers.google.com/earth-engine/datasets/catalog/COPERNICUS_CORINE_V18_5_1_100m#terms-of-use', 'end_date': '2012-12-31', 'endyear': '2012', 'id': 'COPERNICUS/CORINE/V18_5_1/100m', 'provider': 'EEA/Copernicus', 'start_date': '1986-01-01', 'startyear': '1986', 'tags': 'clc, copernicus, corine, eea, esa, eu, landcover', 'thumbnail_url': 'https://developers.google.com/earth-engine/datasets/images/COPERNICUS/COPERNICUS_CORINE_V18_5_1_100m_sample.png', 'title': 'Copernicus CORINE Land Cover [deprecated]', 'type': 'image_collection', 'dates': '1986-01-01 - 2012-12-31', 'uid': 'COPERNICUS_CORINE_V18_5_1_100m'}\n",
                        "{'asset_url': 'https://developers.google.com/earth-engine/datasets/catalog/COPERNICUS_CORINE_V20_100m#terms-of-use', 'end_date': '2018-12-31', 'endyear': '2018', 'id': 'COPERNICUS/CORINE/V20/100m', 'provider': 'EEA/Copernicus', 'start_date': '1986-01-01', 'startyear': '1986', 'tags': 'clc, copernicus, corine, eea, esa, eu, landcover', 'thumbnail_url': 'https://developers.google.com/earth-engine/datasets/images/COPERNICUS/COPERNICUS_CORINE_V20_100m_sample.png', 'title': 'Copernicus CORINE Land Cover', 'type': 'image_collection', 'dates': '1986-01-01 - 2018-12-31', 'uid': 'COPERNICUS_CORINE_V20_100m'}\n",
                        "{'asset_url': 'https://developers.google.com/earth-engine/datasets/catalog/COPERNICUS_Landcover_100m_Proba-V-C3_Global#terms-of-use', 'end_date': '2019-12-31', 'endyear': '2019', 'id': 'COPERNICUS/Landcover/100m/Proba-V-C3/Global', 'provider': 'Copernicus', 'start_date': '2015-01-01', 'startyear': '2015', 'tags': 'copernicus, eea, esa, eu, landcover, proba, probav, vito', 'thumbnail_url': 'https://developers.google.com/earth-engine/datasets/images/COPERNICUS/COPERNICUS_Landcover_100m_Proba-V-C3_Global_sample.png', 'title': 'Copernicus Global Land Cover Layers: CGLS-LC100 Collection 3', 'type': 'image_collection', 'dates': '2015-01-01 - 2019-12-31', 'uid': 'COPERNICUS_Landcover_100m_Proba-V-C3_Global'}\n",
                        "{'asset_url': 'https://developers.google.com/earth-engine/datasets/catalog/COPERNICUS_Landcover_100m_Proba-V_Global#terms-of-use', 'end_date': '2015-01-01', 'endyear': '2015', 'id': 'COPERNICUS/Landcover/100m/Proba-V/Global', 'provider': 'Copernicus', 'start_date': '2015-01-01', 'startyear': '2015', 'tags': 'copernicus, eea, esa, eu, landcover, proba, probav, vito', 'thumbnail_url': 'https://developers.google.com/earth-engine/datasets/images/COPERNICUS/COPERNICUS_Landcover_100m_Proba-V_Global_sample.png', 'title': 'Copernicus Global Land Cover Layers: CGLS-LC100 Collection 2 [deprecated]', 'type': 'image_collection', 'dates': '2015-01-01 - 2015-01-01', 'uid': 'COPERNICUS_Landcover_100m_Proba-V_Global'}\n",
                        "{'asset_url': 'https://developers.google.com/earth-engine/datasets/catalog/JRC_LUCAS_HARMO_COPERNICUS_POLYGONS_V1_2018#terms-of-use', 'end_date': '2019-03-14', 'endyear': '2019', 'id': 'JRC/LUCAS_HARMO/COPERNICUS_POLYGONS/V1/2018', 'provider': 'Joint Research Center, Unit D5', 'start_date': '2006-02-05', 'startyear': '2006', 'tags': 'copernicus, eu, jrc, landcover, landuse, lucas', 'thumbnail_url': 'https://developers.google.com/earth-engine/datasets/images/JRC/JRC_LUCAS_HARMO_COPERNICUS_POLYGONS_V1_2018_sample.png', 'title': 'LUCAS Copernicus (Polygons with attributes, 2018) V1', 'type': 'table', 'dates': '2006-02-05 - 2019-03-14', 'uid': 'JRC_LUCAS_HARMO_COPERNICUS_POLYGONS_V1_2018'}\n",
                        "{'asset_url': 'https://developers.google.com/earth-engine/datasets/catalog/JRC_LUCAS_HARMO_THLOC_V1#terms-of-use', 'end_date': '2019-03-14', 'endyear': '2019', 'id': 'JRC/LUCAS_HARMO/THLOC/V1', 'provider': 'Joint Research Center, Unit D5', 'start_date': '2006-02-05', 'startyear': '2006', 'tags': 'eu, jrc, landcover, landuse, lucas', 'thumbnail_url': 'https://developers.google.com/earth-engine/datasets/images/JRC/JRC_LUCAS_HARMO_THLOC_V1_sample.png', 'title': 'LUCAS Harmonized (Theoretical Location, 2006-2018) V1', 'type': 'table', 'dates': '2006-02-05 - 2019-03-14', 'uid': 'JRC_LUCAS_HARMO_THLOC_V1'}\n",
                        "{'title': 'High Resolution Smallholder & Industrial Closed Canopy Oil Palm plantations', 'sample_code': 'https://code.earthengine.google.com/?scriptPath=users/sat-io/awesome-gee-catalog-examples:regional-landuse-landcover/GLOBAL-INDUSTRIAL-SMALLHOLDER-OIL-PALM', 'type': 'image_collection', 'id': 'projects/sat-io/open-datasets/landcover/oil_palm_industrial_smallholder_2019', 'provider': 'Adrià Descals et al 2021', 'tags': 'industrial, smallholder, oil palm, deep learning, global, remote sensing, Sentinel-1, Sentinel-2, convolutional neural network', 'license': 'Creative Commons Attribution 4.0 International', 'dates': 'Unknown - Unknown', 'uid': 'projects_sat-io_open-datasets_landcover_oil_palm_industrial_smallholder_2019'}\n",
                        "3\n",
                        "{'title': 'ESRI 10m Annual Land Use Land Cover (2017-2022)', 'sample_code': 'https://code.earthengine.google.com/?scriptPath=users/sat-io/awesome-gee-catalog-examples:global-landuse-landcover/ESRI-LULC-2017-2022', 'type': 'image_collection', 'id': 'projects/sat-io/open-datasets/landcover/ESRI_Global-LULC_10m_TS', 'provider': 'Impact Observatory for Esri, Dynamic World Project by National Geographic Society in partnership with Google and the World Resources Institute', 'tags': 'landcover, landuse, lulc, 10m, global, world, sentinel, sentinel 2, impact observatory', 'license': 'Creative Commons Attribution 4.0 International', 'dates': 'Unknown - Unknown', 'uid': 'projects_sat-io_open-datasets_landcover_ESRI_Global-LULC_10m_TS'}\n",
                        "{'title': 'ESRI Global Land Use Land Cover from Sentinel-2', 'sample_code': 'https://code.earthengine.google.com/?scriptPath=users/sat-io/awesome-gee-catalog-examples:global-landuse-landcover/ESRI-LULC-2020', 'type': 'image_collection', 'id': 'projects/sat-io/open-datasets/landcover/ESRI_Global-LULC_10m', 'provider': 'Impact Observatory for Esri, Dynamic World Project by National Geographic Society in partnership with Google and the World Resources Institute', 'tags': 'landcover, landuse, lulc, 10m, global, world, sentinel, sentinel 2, impact observatory, deep learning', 'license': 'Creative Commons Attribution 4.0 International', 'dates': 'Unknown - Unknown', 'uid': 'projects_sat-io_open-datasets_landcover_ESRI_Global-LULC_10m'}\n",
                        "{'title': 'Mapbiomas Brazil: LULC Map Sentinel-2 Beta', 'sample_code': 'https://code.earthengine.google.com/3d07ce796edba49bcd2cf18931dff541?accept_repo=users%2Fmapbiomas%2Fuser-toolkit', 'type': 'image', 'id': 'projects/mapbiomas-workspace/public/collection_S2_beta/collection_LULC_S2_beta', 'provider': 'MapBiomas,Greenhouse Gas Emissions Estimation System (SEEG)', 'tags': 'Mapbiomas, Land Use, Land Cover, Brazil,Sentinel-2', 'license': 'Creative Commons Attribution 4.0 International', 'dates': 'Unknown - Unknown', 'uid': 'projects_mapbiomas-workspace_public_collection_S2_beta_collection_LULC_S2_beta'}\n"
                    ]
                }
            ],
            "source": [
                "datasets = [data for data in ds.search_ee_data('landcover', source='all')]\n",
                "print(len(datasets))\n",
                "datasets_eu = [data for data in ds.search_ee_data('landcover', source='all') if 'eu' in data['tags']]\n",
                "print(len(datasets_eu))\n",
                "for data in datasets_eu:\n",
                "    print(data)\n",
                "    \n",
                "datasets_lulc = [data for data in ds.search_ee_data('LULC', source='all')]\n",
                "print(len(datasets_lulc))\n",
                "for data in datasets_lulc:\n",
                "    print(data)"
            ]
        },
        {
            "cell_type": "code",
            "execution_count": 5,
            "metadata": {},
            "outputs": [],
            "source": [
                "# ds.get_community_data_list()[0]\n",
                "# \n",
                "# ds.get_metadata(\n",
                "#     'projects/sat-io/open-datasets/landcover/ESRI_Global-LULC_10m', source='community'\n",
                "# )"
            ]
        }
    ],
    "metadata": {
        "kernelspec": {
            "display_name": "Python 3",
            "language": "python",
            "name": "python3"
        },
        "language_info": {
            "codemirror_mode": {
                "name": "ipython",
                "version": 3
            },
            "file_extension": ".py",
            "mimetype": "text/x-python",
            "name": "python",
            "nbconvert_exporter": "python",
            "pygments_lexer": "ipython3",
            "version": "3.10.2"
        }
    },
    "nbformat": 4,
    "nbformat_minor": 5
}
